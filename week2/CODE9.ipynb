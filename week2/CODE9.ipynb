{
  "nbformat": 4,
  "nbformat_minor": 0,
  "metadata": {
    "colab": {
      "name": "EPI4-lesson2.ipynb",
      "provenance": [],
      "collapsed_sections": []
    },
    "kernelspec": {
      "name": "python3",
      "display_name": "Python 3"
    },
    "accelerator": "GPU"
  },
  "cells": [
    {
      "cell_type": "code",
      "execution_count": 1,
      "metadata": {
        "colab": {
          "base_uri": "https://localhost:8080/",
          "height": 80
        },
        "colab_type": "code",
        "id": "0SJyVpgSxHt4",
        "outputId": "da349048-b908-4cd1-869b-ded34e1368cf"
      },
      "outputs": [
        {
          "name": "stderr",
          "output_type": "stream",
          "text": [
            "Using TensorFlow backend.\n"
          ]
        },
        {
          "data": {
            "text/html": [
              "<p style=\"color: red;\">\n",
              "The default version of TensorFlow in Colab will soon switch to TensorFlow 2.x.<br>\n",
              "We recommend you <a href=\"https://www.tensorflow.org/guide/migrate\" target=\"_blank\">upgrade</a> now \n",
              "or ensure your notebook will continue to use TensorFlow 1.x via the <code>%tensorflow_version 1.x</code> magic:\n",
              "<a href=\"https://colab.research.google.com/notebooks/tensorflow_version.ipynb\" target=\"_blank\">more info</a>.</p>\n"
            ],
            "text/plain": [
              "<IPython.core.display.HTML object>"
            ]
          },
          "metadata": {
            "tags": []
          },
          "output_type": "display_data"
        }
      ],
      "source": [
        "import numpy as np\n",
        "\n",
        "from keras.models import Sequential\n",
        "from keras.layers import Dense, Dropout, Activation, Flatten, Add, BatchNormalization\n",
        "from keras.layers import Convolution2D, MaxPooling2D\n",
        "from keras.utils import np_utils\n",
        "\n",
        "from keras.datasets import mnist"
      ]
    },
    {
      "cell_type": "code",
      "execution_count": 2,
      "metadata": {
        "colab": {
          "base_uri": "https://localhost:8080/",
          "height": 51
        },
        "colab_type": "code",
        "id": "YlEUplvoxKAT",
        "outputId": "6e0b0aa3-a8ee-4547-ddab-a7661d750800"
      },
      "outputs": [
        {
          "name": "stdout",
          "output_type": "stream",
          "text": [
            "Downloading data from https://s3.amazonaws.com/img-datasets/mnist.npz\n",
            "11493376/11490434 [==============================] - 1s 0us/step\n"
          ]
        }
      ],
      "source": [
        "(X_train, y_train), (X_test, y_test) = mnist.load_data()\n"
      ]
    },
    {
      "cell_type": "code",
      "execution_count": 3,
      "metadata": {
        "colab": {
          "base_uri": "https://localhost:8080/",
          "height": 299
        },
        "colab_type": "code",
        "id": "I6Y9Va-xxMXG",
        "outputId": "248165bd-8950-422d-fe38-3cb468381090"
      },
      "outputs": [
        {
          "name": "stdout",
          "output_type": "stream",
          "text": [
            "(60000, 28, 28)\n"
          ]
        },
        {
          "data": {
            "text/plain": [
              "<matplotlib.image.AxesImage at 0x7fab47798a58>"
            ]
          },
          "execution_count": 3,
          "metadata": {
            "tags": []
          },
          "output_type": "execute_result"
        },
        {
          "data": {
            "image/png": "[encoded data removed]",
            "text/plain": [
              "<Figure size 432x288 with 1 Axes>"
            ]
          },
          "metadata": {
            "tags": []
          },
          "output_type": "display_data"
        }
      ],
      "source": [
        "print (X_train.shape)\n",
        "from matplotlib import pyplot as plt\n",
        "%matplotlib inline\n",
        "plt.imshow(X_train[1])"
      ]
    },
    {
      "cell_type": "code",
      "execution_count": 0,
      "metadata": {
        "colab": {},
        "colab_type": "code",
        "id": "lxDZxPhhxOgO"
      },
      "outputs": [],
      "source": [
        "X_train = X_train.reshape(X_train.shape[0], 28, 28,1)\n",
        "X_test = X_test.reshape(X_test.shape[0], 28, 28,1)"
      ]
    },
    {
      "cell_type": "code",
      "execution_count": 0,
      "metadata": {
        "colab": {},
        "colab_type": "code",
        "id": "3HzMqbTnxQQW"
      },
      "outputs": [],
      "source": [
        "X_train = X_train.astype('float32')\n",
        "X_test = X_test.astype('float32')\n",
        "X_train /= 255\n",
        "X_test /= 255"
      ]
    },
    {
      "cell_type": "code",
      "execution_count": 0,
      "metadata": {
        "colab": {},
        "colab_type": "code",
        "id": "7LdYiW6ixR9e"
      },
      "outputs": [],
      "source": [
        "y_train[:10]\n",
        "Y_train = np_utils.to_categorical(y_train, 10)\n",
        "Y_test = np_utils.to_categorical(y_test, 10)"
      ]
    },
    {
      "cell_type": "code",
      "execution_count": 7,
      "metadata": {
        "colab": {
          "base_uri": "https://localhost:8080/",
          "height": 187
        },
        "colab_type": "code",
        "id": "rFR0F9j0xVp2",
        "outputId": "71e4868f-988b-4ec8-dfc8-f571a2d5fe2e"
      },
      "outputs": [
        {
          "data": {
            "text/plain": [
              "array([[0., 0., 0., 0., 0., 1., 0., 0., 0., 0.],\n",
              "       [1., 0., 0., 0., 0., 0., 0., 0., 0., 0.],\n",
              "       [0., 0., 0., 0., 1., 0., 0., 0., 0., 0.],\n",
              "       [0., 1., 0., 0., 0., 0., 0., 0., 0., 0.],\n",
              "       [0., 0., 0., 0., 0., 0., 0., 0., 0., 1.],\n",
              "       [0., 0., 1., 0., 0., 0., 0., 0., 0., 0.],\n",
              "       [0., 1., 0., 0., 0., 0., 0., 0., 0., 0.],\n",
              "       [0., 0., 0., 1., 0., 0., 0., 0., 0., 0.],\n",
              "       [0., 1., 0., 0., 0., 0., 0., 0., 0., 0.],\n",
              "       [0., 0., 0., 0., 1., 0., 0., 0., 0., 0.]], dtype=float32)"
            ]
          },
          "execution_count": 7,
          "metadata": {
            "tags": []
          },
          "output_type": "execute_result"
        }
      ],
      "source": [
        "Y_train[:10]"
      ]
    },
    {
      "cell_type": "code",
      "execution_count": 0,
      "metadata": {
        "colab": {},
        "colab_type": "code",
        "id": "IERvghLc6uc8"
      },
      "outputs": [],
      "source": []
    },
    {
      "cell_type": "code",
      "execution_count": 0,
      "metadata": {
        "colab": {},
        "colab_type": "code",
        "id": "KBaVp9unxECK"
      },
      "outputs": [],
      "source": [
        "def convolution_block(no_of_kernels: int):\n",
        "    model.add(Convolution2D(no_of_kernels, 3, 3, activation='relu', use_bias=False))\n",
        "    model.add(BatchNormalization())\n",
        "    model.add(Dropout(0.1))\n",
        "\n",
        "\n",
        "def transition_block(no_of_kernels: int):\n",
        "    model.add(Convolution2D(no_of_kernels, 1, activation='relu', use_bias=False))\n",
        "    model.add(MaxPooling2D())"
      ]
    },
    {
      "cell_type": "code",
      "execution_count": 0,
      "metadata": {
        "colab": {},
        "colab_type": "code",
        "id": "jik3ybdWusgg"
      },
      "outputs": [],
      "source": [
        "from keras.layers import AveragePooling2D, GlobalAveragePooling2D"
      ]
    },
    {
      "cell_type": "code",
      "execution_count": 32,
      "metadata": {
        "colab": {
          "base_uri": "https://localhost:8080/",
          "height": 989
        },
        "colab_type": "code",
        "id": "QJPHO_mIxD8j",
        "outputId": "6bd45183-4480-4852-faec-dcca71600bf4"
      },
      "outputs": [
        {
          "name": "stderr",
          "output_type": "stream",
          "text": [
            "/usr/local/lib/python3.6/dist-packages/ipykernel_launcher.py:3: UserWarning: Update your `Conv2D` call to the Keras 2 API: `Conv2D(10, (3, 3), activation=\"relu\", input_shape=(28, 28, 1..., use_bias=False)`\n",
            "  This is separate from the ipykernel package so we can avoid doing imports until\n",
            "/usr/local/lib/python3.6/dist-packages/ipykernel_launcher.py:2: UserWarning: Update your `Conv2D` call to the Keras 2 API: `Conv2D(16, (3, 3), activation=\"relu\", use_bias=False)`\n",
            "  \n"
          ]
        },
        {
          "name": "stdout",
          "output_type": "stream",
          "text": [
            "Model: \"sequential_12\"\n",
            "_________________________________________________________________\n",
            "Layer (type)                 Output Shape              Param #   \n",
            "=================================================================\n",
            "conv2d_73 (Conv2D)           (None, 26, 26, 10)        90        \n",
            "_________________________________________________________________\n",
            "conv2d_74 (Conv2D)           (None, 24, 24, 16)        1440      \n",
            "_________________________________________________________________\n",
            "batch_normalization_41 (Batc (None, 24, 24, 16)        64        \n",
            "_________________________________________________________________\n",
            "dropout_41 (Dropout)         (None, 24, 24, 16)        0         \n",
            "_________________________________________________________________\n",
            "conv2d_75 (Conv2D)           (None, 22, 22, 16)        2304      \n",
            "_________________________________________________________________\n",
            "batch_normalization_42 (Batc (None, 22, 22, 16)        64        \n",
            "_________________________________________________________________\n",
            "dropout_42 (Dropout)         (None, 22, 22, 16)        0         \n",
            "_________________________________________________________________\n",
            "conv2d_76 (Conv2D)           (None, 22, 22, 10)        160       \n",
            "_________________________________________________________________\n",
            "max_pooling2d_11 (MaxPooling (None, 11, 11, 10)        0         \n",
            "_________________________________________________________________\n",
            "conv2d_77 (Conv2D)           (None, 9, 9, 16)          1440      \n",
            "_________________________________________________________________\n",
            "batch_normalization_43 (Batc (None, 9, 9, 16)          64        \n",
            "_________________________________________________________________\n",
            "dropout_43 (Dropout)         (None, 9, 9, 16)          0         \n",
            "_________________________________________________________________\n",
            "conv2d_78 (Conv2D)           (None, 7, 7, 16)          2304      \n",
            "_________________________________________________________________\n",
            "batch_normalization_44 (Batc (None, 7, 7, 16)          64        \n",
            "_________________________________________________________________\n",
            "dropout_44 (Dropout)         (None, 7, 7, 16)          0         \n",
            "_________________________________________________________________\n",
            "conv2d_79 (Conv2D)           (None, 5, 5, 32)          4608      \n",
            "_________________________________________________________________\n",
            "batch_normalization_45 (Batc (None, 5, 5, 32)          128       \n",
            "_________________________________________________________________\n",
            "dropout_45 (Dropout)         (None, 5, 5, 32)          0         \n",
            "_________________________________________________________________\n",
            "conv2d_80 (Conv2D)           (None, 5, 5, 10)          320       \n",
            "_________________________________________________________________\n",
            "global_average_pooling2d_10  (None, 10)                0         \n",
            "_________________________________________________________________\n",
            "activation_6 (Activation)    (None, 10)                0         \n",
            "=================================================================\n",
            "Total params: 13,050\n",
            "Trainable params: 12,858\n",
            "Non-trainable params: 192\n",
            "_________________________________________________________________\n"
          ]
        },
        {
          "name": "stderr",
          "output_type": "stream",
          "text": [
            "/usr/local/lib/python3.6/dist-packages/ipykernel_launcher.py:2: UserWarning: Update your `Conv2D` call to the Keras 2 API: `Conv2D(32, (3, 3), activation=\"relu\", use_bias=False)`\n",
            "  \n"
          ]
        }
      ],
      "source": [
        "model = Sequential()\n",
        "\n",
        "model.add(Convolution2D(10, 3, 3, activation='relu', input_shape=(28, 28, 1), use_bias=False)) # 26x26x10\n",
        "convolution_block(16) # 24x24x16\n",
        "convolution_block(16) # 22x22x16\n",
        "\n",
        "transition_block(10) # 11x11x10\n",
        "\n",
        "convolution_block(16) # 9x9x16\n",
        "convolution_block(16) # 7x7x32\n",
        "convolution_block(32) # 7x7x32\n",
        "\n",
        "model.add(Convolution2D(10, 1, activation='relu', use_bias=False))\n",
        "model.add(GlobalAveragePooling2D())\n",
        "# transition_block(10) # 3x3x10\n",
        "\n",
        "# model.add(Convolution2D(10, 3, 3)) # 1x1x10\n",
        "# model.add(Flatten())\n",
        "model.add(Activation('softmax'))\n",
        "\n",
        "model.summary()"
      ]
    },
    {
      "cell_type": "code",
      "execution_count": 0,
      "metadata": {
        "colab": {},
        "colab_type": "code",
        "id": "W4RRpwpP02bH"
      },
      "outputs": [],
      "source": [
        "from keras.optimizers import Adam\n",
        "from keras.callbacks import LearningRateScheduler, ReduceLROnPlateau"
      ]
    },
    {
      "cell_type": "code",
      "execution_count": 0,
      "metadata": {
        "colab": {},
        "colab_type": "code",
        "id": "e_riYcI10AeF"
      },
      "outputs": [],
      "source": [
        "reduce_lr = ReduceLROnPlateau(verbose=1, patience=2, factor=0.5, min_lr=1e-6)\n",
        "def scheduler(epoch, lr):\n",
        "  return round(0.003 * 1/(1 + 0.319 * epoch), 10)\n",
        "\n",
        "model.compile(optimizer=Adam(lr=1e-2), loss='categorical_crossentropy', metrics=['accuracy'])"
      ]
    },
    {
      "cell_type": "code",
      "execution_count": 35,
      "metadata": {
        "colab": {
          "base_uri": "https://localhost:8080/",
          "height": 901
        },
        "colab_type": "code",
        "id": "u8w3HO3r0AWA",
        "outputId": "1d0ab260-5d01-484c-f808-bb2b175cd93f"
      },
      "outputs": [
        {
          "name": "stdout",
          "output_type": "stream",
          "text": [
            "Train on 60000 samples, validate on 10000 samples\n",
            "Epoch 1/20\n",
            "60000/60000 [==============================] - 8s 132us/step - loss: 0.1724 - acc: 0.9485 - val_loss: 0.0958 - val_acc: 0.9715\n",
            "Epoch 2/20\n",
            "60000/60000 [==============================] - 6s 97us/step - loss: 0.0605 - acc: 0.9810 - val_loss: 0.1301 - val_acc: 0.9633\n",
            "Epoch 3/20\n",
            "60000/60000 [==============================] - 6s 97us/step - loss: 0.0496 - acc: 0.9847 - val_loss: 0.1622 - val_acc: 0.9488\n",
            "\n",
            "Epoch 00003: ReduceLROnPlateau reducing learning rate to 0.004999999888241291.\n",
            "Epoch 4/20\n",
            "60000/60000 [==============================] - 6s 97us/step - loss: 0.0333 - acc: 0.9897 - val_loss: 0.0326 - val_acc: 0.9901\n",
            "Epoch 5/20\n",
            "60000/60000 [==============================] - 6s 97us/step - loss: 0.0319 - acc: 0.9898 - val_loss: 0.0225 - val_acc: 0.9937\n",
            "Epoch 6/20\n",
            "60000/60000 [==============================] - 6s 96us/step - loss: 0.0297 - acc: 0.9904 - val_loss: 0.0243 - val_acc: 0.9925\n",
            "Epoch 7/20\n",
            "60000/60000 [==============================] - 6s 96us/step - loss: 0.0305 - acc: 0.9903 - val_loss: 0.0318 - val_acc: 0.9898\n",
            "\n",
            "Epoch 00007: ReduceLROnPlateau reducing learning rate to 0.0024999999441206455.\n",
            "Epoch 8/20\n",
            "60000/60000 [==============================] - 6s 95us/step - loss: 0.0233 - acc: 0.9925 - val_loss: 0.0205 - val_acc: 0.9932\n",
            "Epoch 9/20\n",
            "60000/60000 [==============================] - 6s 96us/step - loss: 0.0214 - acc: 0.9932 - val_loss: 0.0188 - val_acc: 0.9943\n",
            "Epoch 10/20\n",
            "60000/60000 [==============================] - 6s 97us/step - loss: 0.0199 - acc: 0.9938 - val_loss: 0.0179 - val_acc: 0.9947\n",
            "Epoch 11/20\n",
            "60000/60000 [==============================] - 6s 96us/step - loss: 0.0204 - acc: 0.9937 - val_loss: 0.0211 - val_acc: 0.9932\n",
            "Epoch 12/20\n",
            "60000/60000 [==============================] - 6s 97us/step - loss: 0.0192 - acc: 0.9940 - val_loss: 0.0203 - val_acc: 0.9940\n",
            "\n",
            "Epoch 00012: ReduceLROnPlateau reducing learning rate to 0.0012499999720603228.\n",
            "Epoch 13/20\n",
            "60000/60000 [==============================] - 6s 96us/step - loss: 0.0167 - acc: 0.9947 - val_loss: 0.0155 - val_acc: 0.9957\n",
            "Epoch 14/20\n",
            "60000/60000 [==============================] - 6s 97us/step - loss: 0.0161 - acc: 0.9949 - val_loss: 0.0171 - val_acc: 0.9951\n",
            "Epoch 15/20\n",
            "60000/60000 [==============================] - 6s 97us/step - loss: 0.0148 - acc: 0.9953 - val_loss: 0.0156 - val_acc: 0.9952\n",
            "\n",
            "Epoch 00015: ReduceLROnPlateau reducing learning rate to 0.0006249999860301614.\n",
            "Epoch 16/20\n",
            "60000/60000 [==============================] - 6s 96us/step - loss: 0.0139 - acc: 0.9955 - val_loss: 0.0149 - val_acc: 0.9952\n",
            "Epoch 17/20\n",
            "60000/60000 [==============================] - 6s 96us/step - loss: 0.0129 - acc: 0.9960 - val_loss: 0.0153 - val_acc: 0.9960\n",
            "Epoch 18/20\n",
            "60000/60000 [==============================] - 6s 96us/step - loss: 0.0130 - acc: 0.9961 - val_loss: 0.0148 - val_acc: 0.9957\n",
            "\n",
            "Epoch 00018: ReduceLROnPlateau reducing learning rate to 0.0003124999930150807.\n",
            "Epoch 19/20\n",
            "60000/60000 [==============================] - 6s 96us/step - loss: 0.0119 - acc: 0.9961 - val_loss: 0.0145 - val_acc: 0.9957\n",
            "Epoch 20/20\n",
            "60000/60000 [==============================] - 6s 97us/step - loss: 0.0124 - acc: 0.9961 - val_loss: 0.0147 - val_acc: 0.9957\n"
          ]
        },
        {
          "data": {
            "text/plain": [
              "<keras.callbacks.History at 0x7fab233799e8>"
            ]
          },
          "execution_count": 35,
          "metadata": {
            "tags": []
          },
          "output_type": "execute_result"
        }
      ],
      "source": [
        "model.fit(X_train, Y_train, batch_size=128, epochs=20, callbacks=[reduce_lr], validation_data=(X_test, Y_test), verbose=1)"
      ]
    },
    {
      "cell_type": "code",
      "execution_count": 36,
      "metadata": {
        "colab": {
          "base_uri": "https://localhost:8080/",
          "height": 51
        },
        "colab_type": "code",
        "id": "vT1iTwGPxDsu",
        "outputId": "0c3d38f6-ec5a-40af-ab95-f9b829654254"
      },
      "outputs": [
        {
          "name": "stdout",
          "output_type": "stream",
          "text": [
            "10000/10000 [==============================] - 1s 79us/step\n"
          ]
        },
        {
          "data": {
            "text/plain": [
              "[0.014746979057077989, 0.9957]"
            ]
          },
          "execution_count": 36,
          "metadata": {
            "tags": []
          },
          "output_type": "execute_result"
        }
      ],
      "source": [
        "model.evaluate(X_test, Y_test)"
      ]
    },
    {
      "cell_type": "code",
      "execution_count": 0,
      "metadata": {
        "colab": {},
        "colab_type": "code",
        "id": "IDIcDbEBxDn5"
      },
      "outputs": [],
      "source": []
    }
  ]
}