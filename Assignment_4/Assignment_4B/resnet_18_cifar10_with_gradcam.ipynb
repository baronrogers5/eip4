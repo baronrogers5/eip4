{
  "nbformat": 4,
  "nbformat_minor": 0,
  "metadata": {
    "colab": {
      "name": "resnet_18_cifar10_with_gradcam.ipynb",
      "provenance": [],
      "collapsed_sections": []
    },
    "kernelspec": {
      "name": "python3",
      "display_name": "Python 3"
    },
    "accelerator": "GPU"
  },
  "cells": [
    {
      "cell_type": "markdown",
      "metadata": {
        "id": "VvOuVexF-u3x",
        "colab_type": "text"
      },
      "source": [
        "### Imports"
      ]
    },
    {
      "cell_type": "code",
      "metadata": {
        "id": "-wNM_Q8L-gRD",
        "colab_type": "code",
        "colab": {
          "base_uri": "https://localhost:8080/",
          "height": 80
        },
        "outputId": "7acabc1b-b0e6-4cf1-e4e2-d40c8a949bee"
      },
      "source": [
        "import keras\n",
        "from keras import backend as K\n",
        "\n",
        "from keras.layers import Conv2D, BatchNormalization, Activation, Dense, Flatten, AveragePooling2D, Input\n",
        "from keras.models import Model\n",
        "from keras.callbacks import LearningRateScheduler, ReduceLROnPlateau, ModelCheckpoint\n",
        "from keras.optimizers import Adam\n",
        "from keras.preprocessing.image import ImageDataGenerator\n",
        "from keras.regularizers import l2\n",
        "from keras.datasets import cifar10\n",
        "\n",
        "import numpy as np\n",
        "import os\n",
        "\n",
        "from PIL import Image\n",
        "import matplotlib.pyplot as plt\n",
        "\n",
        "%matplotlib inline"
      ],
      "execution_count": 1,
      "outputs": [
        {
          "output_type": "stream",
          "text": [
            "Using TensorFlow backend.\n"
          ],
          "name": "stderr"
        },
        {
          "output_type": "display_data",
          "data": {
            "text/html": [
              "<p style=\"color: red;\">\n",
              "The default version of TensorFlow in Colab will soon switch to TensorFlow 2.x.<br>\n",
              "We recommend you <a href=\"https://www.tensorflow.org/guide/migrate\" target=\"_blank\">upgrade</a> now \n",
              "or ensure your notebook will continue to use TensorFlow 1.x via the <code>%tensorflow_version 1.x</code> magic:\n",
              "<a href=\"https://colab.research.google.com/notebooks/tensorflow_version.ipynb\" target=\"_blank\">more info</a>.</p>\n"
            ],
            "text/plain": [
              "<IPython.core.display.HTML object>"
            ]
          },
          "metadata": {
            "tags": []
          }
        }
      ]
    },
    {
      "cell_type": "markdown",
      "metadata": {
        "id": "tAOlJ3p9_yJb",
        "colab_type": "text"
      },
      "source": [
        "### Setting up hyper-parameters"
      ]
    },
    {
      "cell_type": "code",
      "metadata": {
        "id": "-ja1uWzI-y2u",
        "colab_type": "code",
        "outputId": "59e6a1f3-607f-492d-ea45-719bcc91543c",
        "colab": {
          "base_uri": "https://localhost:8080/",
          "height": 34
        }
      },
      "source": [
        "batch_size = 128\n",
        "version = 1\n",
        "epochs = 50\n",
        "data_augmentation = True\n",
        "num_classes = 10\n",
        "\n",
        "subtract_pixel_mean = True\n",
        "\n",
        "# model parameter for calculating depth\n",
        "number_of_res_blocks = 3\n",
        "\n",
        "if version == 1:\n",
        "    depth = (number_of_res_blocks * 6) + 2\n",
        "elif version == 2:\n",
        "    depth = (number_of_res_blocks * 9) + 2\n",
        "\n",
        "model_type = f'resnet{depth}v{version}'; model_type"
      ],
      "execution_count": 2,
      "outputs": [
        {
          "output_type": "execute_result",
          "data": {
            "text/plain": [
              "'resnet20v1'"
            ]
          },
          "metadata": {
            "tags": []
          },
          "execution_count": 2
        }
      ]
    },
    {
      "cell_type": "markdown",
      "metadata": {
        "id": "FEDurDnXA8X1",
        "colab_type": "text"
      },
      "source": [
        "### Load the data"
      ]
    },
    {
      "cell_type": "code",
      "metadata": {
        "id": "lR9nShnFAw7y",
        "colab_type": "code",
        "colab": {
          "base_uri": "https://localhost:8080/",
          "height": 51
        },
        "outputId": "84c3b407-d51e-45e8-f16f-4e2768deab57"
      },
      "source": [
        "(x_train, y_train), (x_test, y_test) = cifar10.load_data()"
      ],
      "execution_count": 3,
      "outputs": [
        {
          "output_type": "stream",
          "text": [
            "Downloading data from https://www.cs.toronto.edu/~kriz/cifar-10-python.tar.gz\n",
            "170500096/170498071 [==============================] - 6s 0us/step\n"
          ],
          "name": "stdout"
        }
      ]
    },
    {
      "cell_type": "code",
      "metadata": {
        "id": "srUOGE7rBHE3",
        "colab_type": "code",
        "outputId": "f366de17-8291-4a06-ae3e-dff1f04a1563",
        "colab": {
          "base_uri": "https://localhost:8080/",
          "height": 34
        }
      },
      "source": [
        "x_train.shape"
      ],
      "execution_count": 4,
      "outputs": [
        {
          "output_type": "execute_result",
          "data": {
            "text/plain": [
              "(50000, 32, 32, 3)"
            ]
          },
          "metadata": {
            "tags": []
          },
          "execution_count": 4
        }
      ]
    },
    {
      "cell_type": "code",
      "metadata": {
        "id": "05-j3VENBMPB",
        "colab_type": "code",
        "outputId": "4ba3ae22-07c1-463f-fc15-f528e63a0f8b",
        "colab": {
          "base_uri": "https://localhost:8080/",
          "height": 34
        }
      },
      "source": [
        "input_shape = x_train.shape[1:]; input_shape"
      ],
      "execution_count": 5,
      "outputs": [
        {
          "output_type": "execute_result",
          "data": {
            "text/plain": [
              "(32, 32, 3)"
            ]
          },
          "metadata": {
            "tags": []
          },
          "execution_count": 5
        }
      ]
    },
    {
      "cell_type": "code",
      "metadata": {
        "id": "cxxJwyNzBS8L",
        "colab_type": "code",
        "colab": {}
      },
      "source": [
        "# normalize the data\n",
        "x_train = x_train.astype('float32') / 255\n",
        "x_test = x_test.astype('float32') / 255"
      ],
      "execution_count": 0,
      "outputs": []
    },
    {
      "cell_type": "code",
      "metadata": {
        "id": "RAnMvfviBm9m",
        "colab_type": "code",
        "colab": {}
      },
      "source": [
        "# we subtract the pixel mean of the training set from both the training and the validation or test set\n",
        "if subtract_pixel_mean:\n",
        "    x_train_mean = np.mean(x_train, axis=0)\n",
        "    x_train -= x_train_mean\n",
        "    x_test -= x_train_mean"
      ],
      "execution_count": 0,
      "outputs": []
    },
    {
      "cell_type": "code",
      "metadata": {
        "id": "9ATxhh7NDnPd",
        "colab_type": "code",
        "outputId": "895b5aed-0c30-42b0-e104-9416c19c4660",
        "colab": {
          "base_uri": "https://localhost:8080/",
          "height": 102
        }
      },
      "source": [
        "print('x_train_shape', x_train.shape)\n",
        "print(x_train.shape[0], ' training samples')\n",
        "print(x_test.shape[0], ' test samples')\n",
        "print('x_test_shape', x_test.shape)\n",
        "print('y_train_shape', y_train.shape)"
      ],
      "execution_count": 8,
      "outputs": [
        {
          "output_type": "stream",
          "text": [
            "x_train_shape (50000, 32, 32, 3)\n",
            "50000  training samples\n",
            "10000  test samples\n",
            "x_test_shape (10000, 32, 32, 3)\n",
            "y_train_shape (50000, 1)\n"
          ],
          "name": "stdout"
        }
      ]
    },
    {
      "cell_type": "code",
      "metadata": {
        "id": "uVkOuQKPD0Qj",
        "colab_type": "code",
        "colab": {}
      },
      "source": [
        "# convert the class vectors into binary class matrices\n",
        "y_train = keras.utils.to_categorical(y_train)\n",
        "y_test = keras.utils.to_categorical(y_test)"
      ],
      "execution_count": 0,
      "outputs": []
    },
    {
      "cell_type": "code",
      "metadata": {
        "id": "DPLyCFqnVv3R",
        "colab_type": "code",
        "outputId": "b30a3c25-a3ff-411a-eadd-cb3139cea6bb",
        "colab": {
          "base_uri": "https://localhost:8080/",
          "height": 51
        }
      },
      "source": [
        "y_train[0], y_test[0]"
      ],
      "execution_count": 10,
      "outputs": [
        {
          "output_type": "execute_result",
          "data": {
            "text/plain": [
              "(array([0., 0., 0., 0., 0., 0., 1., 0., 0., 0.], dtype=float32),\n",
              " array([0., 0., 0., 1., 0., 0., 0., 0., 0., 0.], dtype=float32))"
            ]
          },
          "metadata": {
            "tags": []
          },
          "execution_count": 10
        }
      ]
    },
    {
      "cell_type": "markdown",
      "metadata": {
        "id": "A_YttO_EV2yU",
        "colab_type": "text"
      },
      "source": [
        "### Defining Resnet Layer"
      ]
    },
    {
      "cell_type": "code",
      "metadata": {
        "id": "aUjgnP__Vz2-",
        "colab_type": "code",
        "colab": {}
      },
      "source": [
        "def resnet_layer(inputs, *,  kernel_size: int=3, num_filters: int=16, strides: int = 1, \n",
        "                 batch_normalization: bool = True, conv_first: bool = True, activation = 'relu'):\n",
        "    \n",
        "    \"\"\"\n",
        "    conv_first -> conv-bn-relu , else , bn-relu-conv\n",
        "    \"\"\"\n",
        "\n",
        "    conv = Conv2D(num_filters, kernel_size=kernel_size, strides=strides, padding='same', kernel_initializer='he_normal', kernel_regularizer=l2(1e-4))\n",
        "\n",
        "    x = inputs\n",
        "\n",
        "    if conv_first:\n",
        "        x = conv(x)\n",
        "        if batch_normalization:\n",
        "            x = BatchNormalization()(x)\n",
        "        if activation is not None:\n",
        "            x = Activation(activation)(x)\n",
        "    \n",
        "    else:\n",
        "        if batch_normalization:\n",
        "            x = BatchNormalization()(x)\n",
        "        if activation is not None:\n",
        "            x = Activation(activation)(x)\n",
        "        x = conv(x)\n",
        "    \n",
        "    return x"
      ],
      "execution_count": 0,
      "outputs": []
    },
    {
      "cell_type": "code",
      "metadata": {
        "id": "na32SgnZe8em",
        "colab_type": "code",
        "colab": {}
      },
      "source": [
        "def resnet_v1(input_shape, depth, num_classes=num_classes) -> Model:\n",
        "    \"\"\"\n",
        "    Stacks of 2 (3 x 3) resnet blocks are used.\n",
        "    At the start of every stage, the image size is halved, by using a stride of 2.\n",
        "    The number of channels are also doubled. The image size and number of channels remains \n",
        "    same in a single stage.\n",
        "\n",
        "    Feature Map sizes:\n",
        "        stage 0: 32 x 32, 16\n",
        "        stage 1: 16 x 16, 32\n",
        "        stage 2: 8 x 8, 64\n",
        "    \"\"\"\n",
        "\n",
        "    if (depth - 2) % 6 != 0:\n",
        "        raise ValueError('The depth value should be a multiple of 6')\n",
        "\n",
        "    no_of_res_blocks = int((depth - 2) / 6)\n",
        "\n",
        "    num_filters = 16\n",
        "    inputs = Input(shape=input_shape)\n",
        "    # input layer\n",
        "    x = resnet_layer(inputs)\n",
        "\n",
        "    for stage in range(3):\n",
        "        for layer in range(no_of_res_blocks):\n",
        "            stride = 1\n",
        "            if stage > 0 and layer == 0:\n",
        "                stride = 2\n",
        "\n",
        "            y = resnet_layer(x, num_filters=num_filters, strides=stride)\n",
        "            y = resnet_layer(y, num_filters=num_filters, strides=1, activation=None)\n",
        "\n",
        "            if stage > 0 and layer == 0:\n",
        "                x = resnet_layer(x , kernel_size=1, strides=stride, num_filters=num_filters, batch_normalization=False,\n",
        "                                 activation=None)\n",
        "\n",
        "            x = keras.layers.add([x , y])\n",
        "            x = Activation('relu')(x)\n",
        "\n",
        "        num_filters *= 2\n",
        "\n",
        "    # Adding classifier on top\n",
        "    x = AveragePooling2D(pool_size=8)(x)\n",
        "    y = Flatten()(x)\n",
        "    outputs = Dense(num_classes, activation='softmax', kernel_initializer='he_normal')(y)\n",
        "\n",
        "    # Instantiate the model\n",
        "    model = Model(inputs=inputs, outputs=outputs)\n",
        "    return model"
      ],
      "execution_count": 0,
      "outputs": []
    },
    {
      "cell_type": "code",
      "metadata": {
        "id": "gmjgZ1u-oSY7",
        "colab_type": "code",
        "colab": {}
      },
      "source": [
        "if version == 1: \n",
        "    model = resnet_v1(input_shape, depth)"
      ],
      "execution_count": 0,
      "outputs": []
    },
    {
      "cell_type": "code",
      "metadata": {
        "id": "PT3E_55-y3lR",
        "colab_type": "code",
        "outputId": "fa28a2d1-4727-41d3-b087-299524ad0d7c",
        "colab": {
          "base_uri": "https://localhost:8080/",
          "height": 1000
        }
      },
      "source": [
        "model.summary()"
      ],
      "execution_count": 15,
      "outputs": [
        {
          "output_type": "stream",
          "text": [
            "Model: \"model_1\"\n",
            "__________________________________________________________________________________________________\n",
            "Layer (type)                    Output Shape         Param #     Connected to                     \n",
            "==================================================================================================\n",
            "input_1 (InputLayer)            (None, 32, 32, 3)    0                                            \n",
            "__________________________________________________________________________________________________\n",
            "conv2d_1 (Conv2D)               (None, 32, 32, 16)   448         input_1[0][0]                    \n",
            "__________________________________________________________________________________________________\n",
            "batch_normalization_1 (BatchNor (None, 32, 32, 16)   64          conv2d_1[0][0]                   \n",
            "__________________________________________________________________________________________________\n",
            "activation_1 (Activation)       (None, 32, 32, 16)   0           batch_normalization_1[0][0]      \n",
            "__________________________________________________________________________________________________\n",
            "conv2d_2 (Conv2D)               (None, 32, 32, 16)   2320        activation_1[0][0]               \n",
            "__________________________________________________________________________________________________\n",
            "batch_normalization_2 (BatchNor (None, 32, 32, 16)   64          conv2d_2[0][0]                   \n",
            "__________________________________________________________________________________________________\n",
            "activation_2 (Activation)       (None, 32, 32, 16)   0           batch_normalization_2[0][0]      \n",
            "__________________________________________________________________________________________________\n",
            "conv2d_3 (Conv2D)               (None, 32, 32, 16)   2320        activation_2[0][0]               \n",
            "__________________________________________________________________________________________________\n",
            "batch_normalization_3 (BatchNor (None, 32, 32, 16)   64          conv2d_3[0][0]                   \n",
            "__________________________________________________________________________________________________\n",
            "add_1 (Add)                     (None, 32, 32, 16)   0           activation_1[0][0]               \n",
            "                                                                 batch_normalization_3[0][0]      \n",
            "__________________________________________________________________________________________________\n",
            "activation_3 (Activation)       (None, 32, 32, 16)   0           add_1[0][0]                      \n",
            "__________________________________________________________________________________________________\n",
            "conv2d_4 (Conv2D)               (None, 32, 32, 16)   2320        activation_3[0][0]               \n",
            "__________________________________________________________________________________________________\n",
            "batch_normalization_4 (BatchNor (None, 32, 32, 16)   64          conv2d_4[0][0]                   \n",
            "__________________________________________________________________________________________________\n",
            "activation_4 (Activation)       (None, 32, 32, 16)   0           batch_normalization_4[0][0]      \n",
            "__________________________________________________________________________________________________\n",
            "conv2d_5 (Conv2D)               (None, 32, 32, 16)   2320        activation_4[0][0]               \n",
            "__________________________________________________________________________________________________\n",
            "batch_normalization_5 (BatchNor (None, 32, 32, 16)   64          conv2d_5[0][0]                   \n",
            "__________________________________________________________________________________________________\n",
            "add_2 (Add)                     (None, 32, 32, 16)   0           activation_3[0][0]               \n",
            "                                                                 batch_normalization_5[0][0]      \n",
            "__________________________________________________________________________________________________\n",
            "activation_5 (Activation)       (None, 32, 32, 16)   0           add_2[0][0]                      \n",
            "__________________________________________________________________________________________________\n",
            "conv2d_6 (Conv2D)               (None, 32, 32, 16)   2320        activation_5[0][0]               \n",
            "__________________________________________________________________________________________________\n",
            "batch_normalization_6 (BatchNor (None, 32, 32, 16)   64          conv2d_6[0][0]                   \n",
            "__________________________________________________________________________________________________\n",
            "activation_6 (Activation)       (None, 32, 32, 16)   0           batch_normalization_6[0][0]      \n",
            "__________________________________________________________________________________________________\n",
            "conv2d_7 (Conv2D)               (None, 32, 32, 16)   2320        activation_6[0][0]               \n",
            "__________________________________________________________________________________________________\n",
            "batch_normalization_7 (BatchNor (None, 32, 32, 16)   64          conv2d_7[0][0]                   \n",
            "__________________________________________________________________________________________________\n",
            "add_3 (Add)                     (None, 32, 32, 16)   0           activation_5[0][0]               \n",
            "                                                                 batch_normalization_7[0][0]      \n",
            "__________________________________________________________________________________________________\n",
            "activation_7 (Activation)       (None, 32, 32, 16)   0           add_3[0][0]                      \n",
            "__________________________________________________________________________________________________\n",
            "conv2d_8 (Conv2D)               (None, 16, 16, 32)   4640        activation_7[0][0]               \n",
            "__________________________________________________________________________________________________\n",
            "batch_normalization_8 (BatchNor (None, 16, 16, 32)   128         conv2d_8[0][0]                   \n",
            "__________________________________________________________________________________________________\n",
            "activation_8 (Activation)       (None, 16, 16, 32)   0           batch_normalization_8[0][0]      \n",
            "__________________________________________________________________________________________________\n",
            "conv2d_9 (Conv2D)               (None, 16, 16, 32)   9248        activation_8[0][0]               \n",
            "__________________________________________________________________________________________________\n",
            "conv2d_10 (Conv2D)              (None, 16, 16, 32)   544         activation_7[0][0]               \n",
            "__________________________________________________________________________________________________\n",
            "batch_normalization_9 (BatchNor (None, 16, 16, 32)   128         conv2d_9[0][0]                   \n",
            "__________________________________________________________________________________________________\n",
            "add_4 (Add)                     (None, 16, 16, 32)   0           conv2d_10[0][0]                  \n",
            "                                                                 batch_normalization_9[0][0]      \n",
            "__________________________________________________________________________________________________\n",
            "activation_9 (Activation)       (None, 16, 16, 32)   0           add_4[0][0]                      \n",
            "__________________________________________________________________________________________________\n",
            "conv2d_11 (Conv2D)              (None, 16, 16, 32)   9248        activation_9[0][0]               \n",
            "__________________________________________________________________________________________________\n",
            "batch_normalization_10 (BatchNo (None, 16, 16, 32)   128         conv2d_11[0][0]                  \n",
            "__________________________________________________________________________________________________\n",
            "activation_10 (Activation)      (None, 16, 16, 32)   0           batch_normalization_10[0][0]     \n",
            "__________________________________________________________________________________________________\n",
            "conv2d_12 (Conv2D)              (None, 16, 16, 32)   9248        activation_10[0][0]              \n",
            "__________________________________________________________________________________________________\n",
            "batch_normalization_11 (BatchNo (None, 16, 16, 32)   128         conv2d_12[0][0]                  \n",
            "__________________________________________________________________________________________________\n",
            "add_5 (Add)                     (None, 16, 16, 32)   0           activation_9[0][0]               \n",
            "                                                                 batch_normalization_11[0][0]     \n",
            "__________________________________________________________________________________________________\n",
            "activation_11 (Activation)      (None, 16, 16, 32)   0           add_5[0][0]                      \n",
            "__________________________________________________________________________________________________\n",
            "conv2d_13 (Conv2D)              (None, 16, 16, 32)   9248        activation_11[0][0]              \n",
            "__________________________________________________________________________________________________\n",
            "batch_normalization_12 (BatchNo (None, 16, 16, 32)   128         conv2d_13[0][0]                  \n",
            "__________________________________________________________________________________________________\n",
            "activation_12 (Activation)      (None, 16, 16, 32)   0           batch_normalization_12[0][0]     \n",
            "__________________________________________________________________________________________________\n",
            "conv2d_14 (Conv2D)              (None, 16, 16, 32)   9248        activation_12[0][0]              \n",
            "__________________________________________________________________________________________________\n",
            "batch_normalization_13 (BatchNo (None, 16, 16, 32)   128         conv2d_14[0][0]                  \n",
            "__________________________________________________________________________________________________\n",
            "add_6 (Add)                     (None, 16, 16, 32)   0           activation_11[0][0]              \n",
            "                                                                 batch_normalization_13[0][0]     \n",
            "__________________________________________________________________________________________________\n",
            "activation_13 (Activation)      (None, 16, 16, 32)   0           add_6[0][0]                      \n",
            "__________________________________________________________________________________________________\n",
            "conv2d_15 (Conv2D)              (None, 8, 8, 64)     18496       activation_13[0][0]              \n",
            "__________________________________________________________________________________________________\n",
            "batch_normalization_14 (BatchNo (None, 8, 8, 64)     256         conv2d_15[0][0]                  \n",
            "__________________________________________________________________________________________________\n",
            "activation_14 (Activation)      (None, 8, 8, 64)     0           batch_normalization_14[0][0]     \n",
            "__________________________________________________________________________________________________\n",
            "conv2d_16 (Conv2D)              (None, 8, 8, 64)     36928       activation_14[0][0]              \n",
            "__________________________________________________________________________________________________\n",
            "conv2d_17 (Conv2D)              (None, 8, 8, 64)     2112        activation_13[0][0]              \n",
            "__________________________________________________________________________________________________\n",
            "batch_normalization_15 (BatchNo (None, 8, 8, 64)     256         conv2d_16[0][0]                  \n",
            "__________________________________________________________________________________________________\n",
            "add_7 (Add)                     (None, 8, 8, 64)     0           conv2d_17[0][0]                  \n",
            "                                                                 batch_normalization_15[0][0]     \n",
            "__________________________________________________________________________________________________\n",
            "activation_15 (Activation)      (None, 8, 8, 64)     0           add_7[0][0]                      \n",
            "__________________________________________________________________________________________________\n",
            "conv2d_18 (Conv2D)              (None, 8, 8, 64)     36928       activation_15[0][0]              \n",
            "__________________________________________________________________________________________________\n",
            "batch_normalization_16 (BatchNo (None, 8, 8, 64)     256         conv2d_18[0][0]                  \n",
            "__________________________________________________________________________________________________\n",
            "activation_16 (Activation)      (None, 8, 8, 64)     0           batch_normalization_16[0][0]     \n",
            "__________________________________________________________________________________________________\n",
            "conv2d_19 (Conv2D)              (None, 8, 8, 64)     36928       activation_16[0][0]              \n",
            "__________________________________________________________________________________________________\n",
            "batch_normalization_17 (BatchNo (None, 8, 8, 64)     256         conv2d_19[0][0]                  \n",
            "__________________________________________________________________________________________________\n",
            "add_8 (Add)                     (None, 8, 8, 64)     0           activation_15[0][0]              \n",
            "                                                                 batch_normalization_17[0][0]     \n",
            "__________________________________________________________________________________________________\n",
            "activation_17 (Activation)      (None, 8, 8, 64)     0           add_8[0][0]                      \n",
            "__________________________________________________________________________________________________\n",
            "conv2d_20 (Conv2D)              (None, 8, 8, 64)     36928       activation_17[0][0]              \n",
            "__________________________________________________________________________________________________\n",
            "batch_normalization_18 (BatchNo (None, 8, 8, 64)     256         conv2d_20[0][0]                  \n",
            "__________________________________________________________________________________________________\n",
            "activation_18 (Activation)      (None, 8, 8, 64)     0           batch_normalization_18[0][0]     \n",
            "__________________________________________________________________________________________________\n",
            "conv2d_21 (Conv2D)              (None, 8, 8, 64)     36928       activation_18[0][0]              \n",
            "__________________________________________________________________________________________________\n",
            "batch_normalization_19 (BatchNo (None, 8, 8, 64)     256         conv2d_21[0][0]                  \n",
            "__________________________________________________________________________________________________\n",
            "add_9 (Add)                     (None, 8, 8, 64)     0           activation_17[0][0]              \n",
            "                                                                 batch_normalization_19[0][0]     \n",
            "__________________________________________________________________________________________________\n",
            "activation_19 (Activation)      (None, 8, 8, 64)     0           add_9[0][0]                      \n",
            "__________________________________________________________________________________________________\n",
            "average_pooling2d_1 (AveragePoo (None, 1, 1, 64)     0           activation_19[0][0]              \n",
            "__________________________________________________________________________________________________\n",
            "flatten_1 (Flatten)             (None, 64)           0           average_pooling2d_1[0][0]        \n",
            "__________________________________________________________________________________________________\n",
            "dense_1 (Dense)                 (None, 10)           650         flatten_1[0][0]                  \n",
            "==================================================================================================\n",
            "Total params: 274,442\n",
            "Trainable params: 273,066\n",
            "Non-trainable params: 1,376\n",
            "__________________________________________________________________________________________________\n"
          ],
          "name": "stdout"
        }
      ]
    },
    {
      "cell_type": "code",
      "metadata": {
        "id": "HObItrscy-lj",
        "colab_type": "code",
        "colab": {}
      },
      "source": [
        "model.compile(optimizer=Adam(lr=1e-3), loss='categorical_crossentropy', metrics=['accuracy'])"
      ],
      "execution_count": 0,
      "outputs": []
    },
    {
      "cell_type": "code",
      "metadata": {
        "id": "nCmH2hvb0a9R",
        "colab_type": "code",
        "colab": {}
      },
      "source": [
        "save_dir = os.path.join(os.getcwd(), 'saved_models')\n",
        "model_name = 'cifar10-%s-{epoch:03d}.h5' % model_type\n",
        "if not os.path.isdir(save_dir):\n",
        "    os.makedirs(save_dir)\n",
        "filepath = os.path.join(save_dir, model_name)"
      ],
      "execution_count": 0,
      "outputs": []
    },
    {
      "cell_type": "code",
      "metadata": {
        "id": "58ZeX1kgPZHz",
        "colab_type": "code",
        "colab": {}
      },
      "source": [
        ""
      ],
      "execution_count": 0,
      "outputs": []
    },
    {
      "cell_type": "code",
      "metadata": {
        "id": "0DBy6aTl0P69",
        "colab_type": "code",
        "colab": {}
      },
      "source": [
        "reduce_lr = ReduceLROnPlateau(factor=0.7, patience=3, verbose=1, min_lr=1e-6)\n",
        "checkpoints = ModelCheckpoint(filepath=filepath, verbose=1, save_best_only=True, monitor='val_acc')\n",
        "callbacks = [checkpoints, reduce_lr]\n",
        "datagen = ImageDataGenerator(rotation_range=10, width_shift_range=0.1, \n",
        "                             height_shift_range=0.1, zoom_range=0.1, horizontal_flip=True)"
      ],
      "execution_count": 0,
      "outputs": []
    },
    {
      "cell_type": "code",
      "metadata": {
        "id": "dWfXmxQ_0Sbr",
        "colab_type": "code",
        "colab": {}
      },
      "source": [
        "datagen.fit(x_train)"
      ],
      "execution_count": 0,
      "outputs": []
    },
    {
      "cell_type": "code",
      "metadata": {
        "id": "NN6hj88717h5",
        "colab_type": "code",
        "outputId": "f9d5abf3-1d99-4952-d300-f93b07f2870c",
        "colab": {
          "base_uri": "https://localhost:8080/",
          "height": 1000
        }
      },
      "source": [
        "model.fit_generator(datagen.flow(x_train, y_train, batch_size=batch_size),\n",
        "                    validation_data=(x_test, y_test), epochs=epochs, verbose=1, workers=4, callbacks=callbacks)"
      ],
      "execution_count": 0,
      "outputs": [
        {
          "output_type": "stream",
          "text": [
            "WARNING:tensorflow:From /usr/local/lib/python3.6/dist-packages/tensorflow_core/python/ops/math_grad.py:1424: where (from tensorflow.python.ops.array_ops) is deprecated and will be removed in a future version.\n",
            "Instructions for updating:\n",
            "Use tf.where in 2.0, which has the same broadcast rule as np.where\n",
            "WARNING:tensorflow:From /usr/local/lib/python3.6/dist-packages/keras/backend/tensorflow_backend.py:1033: The name tf.assign_add is deprecated. Please use tf.compat.v1.assign_add instead.\n",
            "\n",
            "WARNING:tensorflow:From /usr/local/lib/python3.6/dist-packages/keras/backend/tensorflow_backend.py:1020: The name tf.assign is deprecated. Please use tf.compat.v1.assign instead.\n",
            "\n",
            "Epoch 1/50\n",
            "391/391 [==============================] - 65s 167ms/step - loss: 1.6800 - acc: 0.4467 - val_loss: 1.7477 - val_acc: 0.4442\n",
            "\n",
            "Epoch 00001: val_acc improved from -inf to 0.44420, saving model to /content/saved_models/cifar10-resnet20v1-epoch:03d.h5\n",
            "Epoch 2/50\n",
            "391/391 [==============================] - 56s 142ms/step - loss: 1.3210 - acc: 0.5789 - val_loss: 1.7652 - val_acc: 0.5009\n",
            "\n",
            "Epoch 00002: val_acc improved from 0.44420 to 0.50090, saving model to /content/saved_models/cifar10-resnet20v1-epoch:03d.h5\n",
            "Epoch 3/50\n",
            "391/391 [==============================] - 55s 142ms/step - loss: 1.1375 - acc: 0.6467 - val_loss: 1.4989 - val_acc: 0.5740\n",
            "\n",
            "Epoch 00003: val_acc improved from 0.50090 to 0.57400, saving model to /content/saved_models/cifar10-resnet20v1-epoch:03d.h5\n",
            "Epoch 4/50\n",
            "391/391 [==============================] - 55s 141ms/step - loss: 1.0144 - acc: 0.6930 - val_loss: 1.1532 - val_acc: 0.6576\n",
            "\n",
            "Epoch 00004: val_acc improved from 0.57400 to 0.65760, saving model to /content/saved_models/cifar10-resnet20v1-epoch:03d.h5\n",
            "Epoch 5/50\n",
            "391/391 [==============================] - 55s 141ms/step - loss: 0.9252 - acc: 0.7258 - val_loss: 1.1550 - val_acc: 0.6657\n",
            "\n",
            "Epoch 00005: val_acc improved from 0.65760 to 0.66570, saving model to /content/saved_models/cifar10-resnet20v1-epoch:03d.h5\n",
            "Epoch 6/50\n",
            "391/391 [==============================] - 55s 141ms/step - loss: 0.8729 - acc: 0.7457 - val_loss: 1.3921 - val_acc: 0.6276\n",
            "\n",
            "Epoch 00006: val_acc did not improve from 0.66570\n",
            "Epoch 7/50\n",
            "391/391 [==============================] - 56s 143ms/step - loss: 0.8178 - acc: 0.7631 - val_loss: 1.2354 - val_acc: 0.6634\n",
            "\n",
            "Epoch 00007: val_acc did not improve from 0.66570\n",
            "\n",
            "Epoch 00007: ReduceLROnPlateau reducing learning rate to 0.0007000000332482159.\n",
            "Epoch 8/50\n",
            "391/391 [==============================] - 55s 140ms/step - loss: 0.7558 - acc: 0.7884 - val_loss: 0.9813 - val_acc: 0.7117\n",
            "\n",
            "Epoch 00008: val_acc improved from 0.66570 to 0.71170, saving model to /content/saved_models/cifar10-resnet20v1-epoch:03d.h5\n",
            "Epoch 9/50\n",
            "391/391 [==============================] - 55s 140ms/step - loss: 0.7223 - acc: 0.7952 - val_loss: 1.0160 - val_acc: 0.6984\n",
            "\n",
            "Epoch 00009: val_acc did not improve from 0.71170\n",
            "Epoch 10/50\n",
            "391/391 [==============================] - 55s 140ms/step - loss: 0.7026 - acc: 0.8032 - val_loss: 1.0068 - val_acc: 0.7196\n",
            "\n",
            "Epoch 00010: val_acc improved from 0.71170 to 0.71960, saving model to /content/saved_models/cifar10-resnet20v1-epoch:03d.h5\n",
            "Epoch 11/50\n",
            "391/391 [==============================] - 57s 145ms/step - loss: 0.6784 - acc: 0.8109 - val_loss: 0.8394 - val_acc: 0.7721\n",
            "\n",
            "Epoch 00011: val_acc improved from 0.71960 to 0.77210, saving model to /content/saved_models/cifar10-resnet20v1-epoch:03d.h5\n",
            "Epoch 12/50\n",
            "391/391 [==============================] - 56s 142ms/step - loss: 0.6552 - acc: 0.8208 - val_loss: 0.8605 - val_acc: 0.7594\n",
            "\n",
            "Epoch 00012: val_acc did not improve from 0.77210\n",
            "Epoch 13/50\n",
            "391/391 [==============================] - 55s 141ms/step - loss: 0.6453 - acc: 0.8245 - val_loss: 0.9330 - val_acc: 0.7461\n",
            "\n",
            "Epoch 00013: val_acc did not improve from 0.77210\n",
            "Epoch 14/50\n",
            "391/391 [==============================] - 55s 141ms/step - loss: 0.6265 - acc: 0.8281 - val_loss: 0.7154 - val_acc: 0.8026\n",
            "\n",
            "Epoch 00014: val_acc improved from 0.77210 to 0.80260, saving model to /content/saved_models/cifar10-resnet20v1-epoch:03d.h5\n",
            "Epoch 15/50\n",
            "391/391 [==============================] - 55s 141ms/step - loss: 0.6116 - acc: 0.8364 - val_loss: 0.9556 - val_acc: 0.7373\n",
            "\n",
            "Epoch 00015: val_acc did not improve from 0.80260\n",
            "Epoch 16/50\n",
            "391/391 [==============================] - 55s 142ms/step - loss: 0.6039 - acc: 0.8376 - val_loss: 0.7018 - val_acc: 0.8079\n",
            "\n",
            "Epoch 00016: val_acc improved from 0.80260 to 0.80790, saving model to /content/saved_models/cifar10-resnet20v1-epoch:03d.h5\n",
            "Epoch 17/50\n",
            "391/391 [==============================] - 55s 140ms/step - loss: 0.5848 - acc: 0.8431 - val_loss: 0.8193 - val_acc: 0.7687\n",
            "\n",
            "Epoch 00017: val_acc did not improve from 0.80790\n",
            "Epoch 18/50\n",
            "391/391 [==============================] - 55s 140ms/step - loss: 0.5796 - acc: 0.8461 - val_loss: 0.8062 - val_acc: 0.7810\n",
            "\n",
            "Epoch 00018: val_acc did not improve from 0.80790\n",
            "Epoch 19/50\n",
            "391/391 [==============================] - 55s 140ms/step - loss: 0.5608 - acc: 0.8506 - val_loss: 0.7643 - val_acc: 0.7980\n",
            "\n",
            "Epoch 00019: val_acc did not improve from 0.80790\n",
            "\n",
            "Epoch 00019: ReduceLROnPlateau reducing learning rate to 0.0004900000232737511.\n",
            "Epoch 20/50\n",
            "391/391 [==============================] - 54s 139ms/step - loss: 0.5222 - acc: 0.8658 - val_loss: 0.6699 - val_acc: 0.8200\n",
            "\n",
            "Epoch 00020: val_acc improved from 0.80790 to 0.82000, saving model to /content/saved_models/cifar10-resnet20v1-epoch:03d.h5\n",
            "Epoch 21/50\n",
            "391/391 [==============================] - 54s 138ms/step - loss: 0.5190 - acc: 0.8637 - val_loss: 0.7161 - val_acc: 0.8108\n",
            "\n",
            "Epoch 00021: val_acc did not improve from 0.82000\n",
            "Epoch 22/50\n",
            "391/391 [==============================] - 54s 139ms/step - loss: 0.5060 - acc: 0.8693 - val_loss: 0.7221 - val_acc: 0.8137\n",
            "\n",
            "Epoch 00022: val_acc did not improve from 0.82000\n",
            "Epoch 23/50\n",
            "391/391 [==============================] - 54s 138ms/step - loss: 0.4985 - acc: 0.8715 - val_loss: 0.6590 - val_acc: 0.8240\n",
            "\n",
            "Epoch 00023: val_acc improved from 0.82000 to 0.82400, saving model to /content/saved_models/cifar10-resnet20v1-epoch:03d.h5\n",
            "Epoch 24/50\n",
            "391/391 [==============================] - 54s 139ms/step - loss: 0.4906 - acc: 0.8739 - val_loss: 0.6221 - val_acc: 0.8381\n",
            "\n",
            "Epoch 00024: val_acc improved from 0.82400 to 0.83810, saving model to /content/saved_models/cifar10-resnet20v1-epoch:03d.h5\n",
            "Epoch 25/50\n",
            "391/391 [==============================] - 54s 139ms/step - loss: 0.4826 - acc: 0.8753 - val_loss: 0.6612 - val_acc: 0.8273\n",
            "\n",
            "Epoch 00025: val_acc did not improve from 0.83810\n",
            "Epoch 26/50\n",
            "391/391 [==============================] - 54s 138ms/step - loss: 0.4733 - acc: 0.8794 - val_loss: 0.9751 - val_acc: 0.7558\n",
            "\n",
            "Epoch 00026: val_acc did not improve from 0.83810\n",
            "Epoch 27/50\n",
            "391/391 [==============================] - 54s 137ms/step - loss: 0.4687 - acc: 0.8804 - val_loss: 0.6801 - val_acc: 0.8181\n",
            "\n",
            "Epoch 00027: val_acc did not improve from 0.83810\n",
            "\n",
            "Epoch 00027: ReduceLROnPlateau reducing learning rate to 0.00034300000406801696.\n",
            "Epoch 28/50\n",
            "391/391 [==============================] - 54s 138ms/step - loss: 0.4392 - acc: 0.8902 - val_loss: 0.5931 - val_acc: 0.8482\n",
            "\n",
            "Epoch 00028: val_acc improved from 0.83810 to 0.84820, saving model to /content/saved_models/cifar10-resnet20v1-epoch:03d.h5\n",
            "Epoch 29/50\n",
            "391/391 [==============================] - 53s 136ms/step - loss: 0.4317 - acc: 0.8922 - val_loss: 0.5849 - val_acc: 0.8473\n",
            "\n",
            "Epoch 00029: val_acc did not improve from 0.84820\n",
            "Epoch 30/50\n",
            "391/391 [==============================] - 54s 137ms/step - loss: 0.4260 - acc: 0.8945 - val_loss: 0.6212 - val_acc: 0.8439\n",
            "\n",
            "Epoch 00030: val_acc did not improve from 0.84820\n",
            "Epoch 31/50\n",
            "391/391 [==============================] - 54s 137ms/step - loss: 0.4233 - acc: 0.8952 - val_loss: 0.6251 - val_acc: 0.8359\n",
            "\n",
            "Epoch 00031: val_acc did not improve from 0.84820\n",
            "Epoch 32/50\n",
            "391/391 [==============================] - 53s 137ms/step - loss: 0.4187 - acc: 0.8954 - val_loss: 0.6153 - val_acc: 0.8377\n",
            "\n",
            "Epoch 00032: val_acc did not improve from 0.84820\n",
            "\n",
            "Epoch 00032: ReduceLROnPlateau reducing learning rate to 0.00024009999469853935.\n",
            "Epoch 33/50\n",
            "391/391 [==============================] - 56s 142ms/step - loss: 0.3956 - acc: 0.9052 - val_loss: 0.6200 - val_acc: 0.8427\n",
            "\n",
            "Epoch 00033: val_acc did not improve from 0.84820\n",
            "Epoch 34/50\n",
            "391/391 [==============================] - 55s 141ms/step - loss: 0.3871 - acc: 0.9070 - val_loss: 0.5798 - val_acc: 0.8575\n",
            "\n",
            "Epoch 00034: val_acc improved from 0.84820 to 0.85750, saving model to /content/saved_models/cifar10-resnet20v1-epoch:03d.h5\n",
            "Epoch 35/50\n",
            "391/391 [==============================] - 55s 142ms/step - loss: 0.3865 - acc: 0.9064 - val_loss: 0.5546 - val_acc: 0.8578\n",
            "\n",
            "Epoch 00035: val_acc improved from 0.85750 to 0.85780, saving model to /content/saved_models/cifar10-resnet20v1-epoch:03d.h5\n",
            "Epoch 36/50\n",
            "391/391 [==============================] - 55s 140ms/step - loss: 0.3792 - acc: 0.9093 - val_loss: 0.5893 - val_acc: 0.8512\n",
            "\n",
            "Epoch 00036: val_acc did not improve from 0.85780\n",
            "Epoch 37/50\n",
            "391/391 [==============================] - 55s 140ms/step - loss: 0.3710 - acc: 0.9118 - val_loss: 0.6219 - val_acc: 0.8422\n",
            "\n",
            "Epoch 00037: val_acc did not improve from 0.85780\n",
            "Epoch 38/50\n",
            "391/391 [==============================] - 55s 139ms/step - loss: 0.3793 - acc: 0.9079 - val_loss: 0.5897 - val_acc: 0.8499\n",
            "\n",
            "Epoch 00038: val_acc did not improve from 0.85780\n",
            "\n",
            "Epoch 00038: ReduceLROnPlateau reducing learning rate to 0.00016806999628897755.\n",
            "Epoch 39/50\n",
            "391/391 [==============================] - 55s 141ms/step - loss: 0.3584 - acc: 0.9163 - val_loss: 0.5340 - val_acc: 0.8692\n",
            "\n",
            "Epoch 00039: val_acc improved from 0.85780 to 0.86920, saving model to /content/saved_models/cifar10-resnet20v1-epoch:03d.h5\n",
            "Epoch 40/50\n",
            "391/391 [==============================] - 56s 142ms/step - loss: 0.3544 - acc: 0.9177 - val_loss: 0.4993 - val_acc: 0.8766\n",
            "\n",
            "Epoch 00040: val_acc improved from 0.86920 to 0.87660, saving model to /content/saved_models/cifar10-resnet20v1-epoch:03d.h5\n",
            "Epoch 41/50\n",
            "391/391 [==============================] - 55s 142ms/step - loss: 0.3524 - acc: 0.9170 - val_loss: 0.5372 - val_acc: 0.8622\n",
            "\n",
            "Epoch 00041: val_acc did not improve from 0.87660\n",
            "Epoch 42/50\n",
            "391/391 [==============================] - 55s 142ms/step - loss: 0.3476 - acc: 0.9183 - val_loss: 0.5028 - val_acc: 0.8741\n",
            "\n",
            "Epoch 00042: val_acc did not improve from 0.87660\n",
            "Epoch 43/50\n",
            "391/391 [==============================] - 55s 141ms/step - loss: 0.3447 - acc: 0.9183 - val_loss: 0.5358 - val_acc: 0.8665\n",
            "\n",
            "Epoch 00043: val_acc did not improve from 0.87660\n",
            "\n",
            "Epoch 00043: ReduceLROnPlateau reducing learning rate to 0.00011764899536501615.\n",
            "Epoch 44/50\n",
            "391/391 [==============================] - 55s 140ms/step - loss: 0.3336 - acc: 0.9228 - val_loss: 0.4966 - val_acc: 0.8743\n",
            "\n",
            "Epoch 00044: val_acc did not improve from 0.87660\n",
            "Epoch 45/50\n",
            "391/391 [==============================] - 54s 138ms/step - loss: 0.3315 - acc: 0.9242 - val_loss: 0.5226 - val_acc: 0.8724\n",
            "\n",
            "Epoch 00045: val_acc did not improve from 0.87660\n",
            "Epoch 46/50\n",
            "391/391 [==============================] - 54s 138ms/step - loss: 0.3246 - acc: 0.9253 - val_loss: 0.5041 - val_acc: 0.8766\n",
            "\n",
            "Epoch 00046: val_acc did not improve from 0.87660\n",
            "Epoch 47/50\n",
            "391/391 [==============================] - 54s 139ms/step - loss: 0.3260 - acc: 0.9254 - val_loss: 0.5340 - val_acc: 0.8674\n",
            "\n",
            "Epoch 00047: val_acc did not improve from 0.87660\n",
            "\n",
            "Epoch 00047: ReduceLROnPlateau reducing learning rate to 8.235429777414538e-05.\n",
            "Epoch 48/50\n",
            "391/391 [==============================] - 54s 138ms/step - loss: 0.3177 - acc: 0.9281 - val_loss: 0.5055 - val_acc: 0.8748\n",
            "\n",
            "Epoch 00048: val_acc did not improve from 0.87660\n",
            "Epoch 49/50\n",
            "391/391 [==============================] - 54s 138ms/step - loss: 0.3154 - acc: 0.9286 - val_loss: 0.4631 - val_acc: 0.8875\n",
            "\n",
            "Epoch 00049: val_acc improved from 0.87660 to 0.88750, saving model to /content/saved_models/cifar10-resnet20v1-epoch:03d.h5\n",
            "Epoch 50/50\n",
            "391/391 [==============================] - 54s 137ms/step - loss: 0.3094 - acc: 0.9308 - val_loss: 0.5083 - val_acc: 0.8754\n",
            "\n",
            "Epoch 00050: val_acc did not improve from 0.88750\n"
          ],
          "name": "stdout"
        },
        {
          "output_type": "execute_result",
          "data": {
            "text/plain": [
              "<keras.callbacks.History at 0x7fdb8742d6d8>"
            ]
          },
          "metadata": {
            "tags": []
          },
          "execution_count": 35
        }
      ]
    },
    {
      "cell_type": "markdown",
      "metadata": {
        "id": "vVzQ_qWM_I92",
        "colab_type": "text"
      },
      "source": [
        "### Implement cutout using imgaug and reduce ImageAugmentation"
      ]
    },
    {
      "cell_type": "code",
      "metadata": {
        "id": "Jme7OxNq3TfU",
        "colab_type": "code",
        "outputId": "f017b27a-46af-4579-f7f6-a2c307a31d7d",
        "colab": {
          "base_uri": "https://localhost:8080/",
          "height": 85
        }
      },
      "source": [
        "!git clone https://github.com/yu4u/cutout-random-erasing"
      ],
      "execution_count": 18,
      "outputs": [
        {
          "output_type": "stream",
          "text": [
            "Cloning into 'cutout-random-erasing'...\n",
            "remote: Enumerating objects: 23, done.\u001b[K\n",
            "Unpacking objects:   4% (1/23)   \rUnpacking objects:   8% (2/23)   \rUnpacking objects:  13% (3/23)   \rUnpacking objects:  17% (4/23)   \rUnpacking objects:  21% (5/23)   \rUnpacking objects:  26% (6/23)   \rUnpacking objects:  30% (7/23)   \rUnpacking objects:  34% (8/23)   \rUnpacking objects:  39% (9/23)   \rUnpacking objects:  43% (10/23)   \rUnpacking objects:  47% (11/23)   \rUnpacking objects:  52% (12/23)   \rUnpacking objects:  56% (13/23)   \rUnpacking objects:  60% (14/23)   \rUnpacking objects:  65% (15/23)   \rUnpacking objects:  69% (16/23)   \rUnpacking objects:  73% (17/23)   \rUnpacking objects:  78% (18/23)   \rUnpacking objects:  82% (19/23)   \rremote: Total 23 (delta 0), reused 0 (delta 0), pack-reused 23\n",
            "Unpacking objects:  86% (20/23)   \rUnpacking objects:  91% (21/23)   \rUnpacking objects:  95% (22/23)   \rUnpacking objects: 100% (23/23)   \rUnpacking objects: 100% (23/23), done.\n"
          ],
          "name": "stdout"
        }
      ]
    },
    {
      "cell_type": "code",
      "metadata": {
        "id": "sz6DRpw3P8TX",
        "colab_type": "code",
        "outputId": "80582b39-322f-4875-b060-31851c76e8dd",
        "colab": {
          "base_uri": "https://localhost:8080/",
          "height": 34
        }
      },
      "source": [
        "%cd cutout-random-erasing/"
      ],
      "execution_count": 19,
      "outputs": [
        {
          "output_type": "stream",
          "text": [
            "/content/cutout-random-erasing\n"
          ],
          "name": "stdout"
        }
      ]
    },
    {
      "cell_type": "code",
      "metadata": {
        "id": "j8GkRMKyPKay",
        "colab_type": "code",
        "colab": {}
      },
      "source": [
        "from random_eraser import get_random_eraser"
      ],
      "execution_count": 0,
      "outputs": []
    },
    {
      "cell_type": "code",
      "metadata": {
        "id": "QMUkghXEPiK_",
        "colab_type": "code",
        "colab": {}
      },
      "source": [
        "eraser = get_random_eraser(v_l=0, v_h=1)"
      ],
      "execution_count": 0,
      "outputs": []
    },
    {
      "cell_type": "code",
      "metadata": {
        "id": "UTyvje-uQDpi",
        "colab_type": "code",
        "outputId": "e928b022-8dca-4b99-d77a-c949167e48c4",
        "colab": {
          "base_uri": "https://localhost:8080/",
          "height": 283
        }
      },
      "source": [
        "img = eraser(x_train[1])\n",
        "plt.imshow(img, interpolation='nearest');"
      ],
      "execution_count": 0,
      "outputs": [
        {
          "output_type": "stream",
          "text": [
            "Clipping input data to the valid range for imshow with RGB data ([0..1] for floats or [0..255] for integers).\n"
          ],
          "name": "stderr"
        },
        {
          "output_type": "display_data",
          "data": {
            "image/png": "[encoded data removed]",
            "text/plain": [
              "<Figure size 432x288 with 1 Axes>"
            ]
          },
          "metadata": {
            "tags": []
          }
        }
      ]
    },
    {
      "cell_type": "code",
      "metadata": {
        "id": "l1_ezkzGQMru",
        "colab_type": "code",
        "colab": {}
      },
      "source": [
        "reduce_lr = ReduceLROnPlateau(factor=0.7, patience=4, verbose=1, min_lr=1e-6)\n",
        "checkpoints = ModelCheckpoint(filepath=filepath, verbose=1, save_best_only=True, monitor='val_acc')\n",
        "callbacks = [checkpoints, reduce_lr]\n",
        "datagen = ImageDataGenerator(horizontal_flip=True, preprocessing_function=get_random_eraser(v_l=0, v_h=1),\n",
        "                             width_shift_range=0.1, height_shift_range=0.1)"
      ],
      "execution_count": 0,
      "outputs": []
    },
    {
      "cell_type": "code",
      "metadata": {
        "id": "Tv52lZKFS0qn",
        "colab_type": "code",
        "colab": {}
      },
      "source": [
        "datagen.fit(x_train)"
      ],
      "execution_count": 0,
      "outputs": []
    },
    {
      "cell_type": "code",
      "metadata": {
        "id": "oO3XV_izS3xK",
        "colab_type": "code",
        "outputId": "12d27672-3144-41fd-fc6b-746620524899",
        "colab": {
          "base_uri": "https://localhost:8080/",
          "height": 1000
        }
      },
      "source": [
        "model.fit_generator(datagen.flow(x_train, y_train, batch_size=batch_size),\n",
        "                    validation_data=(x_test, y_test), epochs=epochs, verbose=1, workers=4, callbacks=callbacks)"
      ],
      "execution_count": 23,
      "outputs": [
        {
          "output_type": "stream",
          "text": [
            "WARNING:tensorflow:From /usr/local/lib/python3.6/dist-packages/tensorflow_core/python/ops/math_grad.py:1424: where (from tensorflow.python.ops.array_ops) is deprecated and will be removed in a future version.\n",
            "Instructions for updating:\n",
            "Use tf.where in 2.0, which has the same broadcast rule as np.where\n",
            "WARNING:tensorflow:From /usr/local/lib/python3.6/dist-packages/keras/backend/tensorflow_backend.py:1033: The name tf.assign_add is deprecated. Please use tf.compat.v1.assign_add instead.\n",
            "\n",
            "WARNING:tensorflow:From /usr/local/lib/python3.6/dist-packages/keras/backend/tensorflow_backend.py:1020: The name tf.assign is deprecated. Please use tf.compat.v1.assign instead.\n",
            "\n",
            "Epoch 1/50\n",
            "391/391 [==============================] - 38s 96ms/step - loss: 1.8042 - acc: 0.4090 - val_loss: 1.5138 - val_acc: 0.5140\n",
            "\n",
            "Epoch 00001: val_acc improved from -inf to 0.51400, saving model to /content/saved_models/cifar10-resnet20v1-001.h5\n",
            "Epoch 2/50\n",
            "391/391 [==============================] - 30s 77ms/step - loss: 1.3858 - acc: 0.5554 - val_loss: 2.3198 - val_acc: 0.4033\n",
            "\n",
            "Epoch 00002: val_acc did not improve from 0.51400\n",
            "Epoch 3/50\n",
            "391/391 [==============================] - 30s 76ms/step - loss: 1.2177 - acc: 0.6180 - val_loss: 1.2684 - val_acc: 0.6258\n",
            "\n",
            "Epoch 00003: val_acc improved from 0.51400 to 0.62580, saving model to /content/saved_models/cifar10-resnet20v1-003.h5\n",
            "Epoch 4/50\n",
            "391/391 [==============================] - 30s 76ms/step - loss: 1.0997 - acc: 0.6611 - val_loss: 1.1563 - val_acc: 0.6435\n",
            "\n",
            "Epoch 00004: val_acc improved from 0.62580 to 0.64350, saving model to /content/saved_models/cifar10-resnet20v1-004.h5\n",
            "Epoch 5/50\n",
            "391/391 [==============================] - 30s 75ms/step - loss: 1.0300 - acc: 0.6881 - val_loss: 1.4070 - val_acc: 0.6212\n",
            "\n",
            "Epoch 00005: val_acc did not improve from 0.64350\n",
            "Epoch 6/50\n",
            "391/391 [==============================] - 29s 75ms/step - loss: 0.9726 - acc: 0.7072 - val_loss: 1.2982 - val_acc: 0.6408\n",
            "\n",
            "Epoch 00006: val_acc did not improve from 0.64350\n",
            "Epoch 7/50\n",
            "391/391 [==============================] - 30s 77ms/step - loss: 0.9193 - acc: 0.7284 - val_loss: 0.9099 - val_acc: 0.7356\n",
            "\n",
            "Epoch 00007: val_acc improved from 0.64350 to 0.73560, saving model to /content/saved_models/cifar10-resnet20v1-007.h5\n",
            "Epoch 8/50\n",
            "391/391 [==============================] - 30s 76ms/step - loss: 0.8868 - acc: 0.7388 - val_loss: 1.0500 - val_acc: 0.6959\n",
            "\n",
            "Epoch 00008: val_acc did not improve from 0.73560\n",
            "Epoch 9/50\n",
            "391/391 [==============================] - 29s 75ms/step - loss: 0.8506 - acc: 0.7529 - val_loss: 1.0776 - val_acc: 0.6910\n",
            "\n",
            "Epoch 00009: val_acc did not improve from 0.73560\n",
            "Epoch 10/50\n",
            "391/391 [==============================] - 30s 76ms/step - loss: 0.8100 - acc: 0.7653 - val_loss: 0.9269 - val_acc: 0.7408\n",
            "\n",
            "Epoch 00010: val_acc improved from 0.73560 to 0.74080, saving model to /content/saved_models/cifar10-resnet20v1-010.h5\n",
            "\n",
            "Epoch 00010: ReduceLROnPlateau reducing learning rate to 0.0007000000332482159.\n",
            "Epoch 11/50\n",
            "391/391 [==============================] - 30s 76ms/step - loss: 0.7640 - acc: 0.7818 - val_loss: 0.8360 - val_acc: 0.7637\n",
            "\n",
            "Epoch 00011: val_acc improved from 0.74080 to 0.76370, saving model to /content/saved_models/cifar10-resnet20v1-011.h5\n",
            "Epoch 12/50\n",
            "391/391 [==============================] - 30s 75ms/step - loss: 0.7357 - acc: 0.7919 - val_loss: 0.8011 - val_acc: 0.7711\n",
            "\n",
            "Epoch 00012: val_acc improved from 0.76370 to 0.77110, saving model to /content/saved_models/cifar10-resnet20v1-012.h5\n",
            "Epoch 13/50\n",
            "391/391 [==============================] - 30s 76ms/step - loss: 0.7218 - acc: 0.7981 - val_loss: 0.8909 - val_acc: 0.7576\n",
            "\n",
            "Epoch 00013: val_acc did not improve from 0.77110\n",
            "Epoch 14/50\n",
            "391/391 [==============================] - 29s 75ms/step - loss: 0.7055 - acc: 0.8019 - val_loss: 0.8398 - val_acc: 0.7525\n",
            "\n",
            "Epoch 00014: val_acc did not improve from 0.77110\n",
            "Epoch 15/50\n",
            "391/391 [==============================] - 29s 75ms/step - loss: 0.6914 - acc: 0.8067 - val_loss: 0.9565 - val_acc: 0.7544\n",
            "\n",
            "Epoch 00015: val_acc did not improve from 0.77110\n",
            "\n",
            "Epoch 00015: ReduceLROnPlateau reducing learning rate to 0.0004900000232737511.\n",
            "Epoch 16/50\n",
            "391/391 [==============================] - 29s 75ms/step - loss: 0.6493 - acc: 0.8208 - val_loss: 0.7698 - val_acc: 0.7896\n",
            "\n",
            "Epoch 00016: val_acc improved from 0.77110 to 0.78960, saving model to /content/saved_models/cifar10-resnet20v1-016.h5\n",
            "Epoch 17/50\n",
            "391/391 [==============================] - 30s 76ms/step - loss: 0.6349 - acc: 0.8250 - val_loss: 0.6833 - val_acc: 0.8104\n",
            "\n",
            "Epoch 00017: val_acc improved from 0.78960 to 0.81040, saving model to /content/saved_models/cifar10-resnet20v1-017.h5\n",
            "Epoch 18/50\n",
            "391/391 [==============================] - 29s 75ms/step - loss: 0.6231 - acc: 0.8269 - val_loss: 0.7134 - val_acc: 0.8070\n",
            "\n",
            "Epoch 00018: val_acc did not improve from 0.81040\n",
            "Epoch 19/50\n",
            "391/391 [==============================] - 29s 75ms/step - loss: 0.6133 - acc: 0.8330 - val_loss: 0.7706 - val_acc: 0.7900\n",
            "\n",
            "Epoch 00019: val_acc did not improve from 0.81040\n",
            "Epoch 20/50\n",
            "391/391 [==============================] - 29s 75ms/step - loss: 0.6066 - acc: 0.8335 - val_loss: 0.7460 - val_acc: 0.7977\n",
            "\n",
            "Epoch 00020: val_acc did not improve from 0.81040\n",
            "\n",
            "Epoch 00020: ReduceLROnPlateau reducing learning rate to 0.00034300000406801696.\n",
            "Epoch 21/50\n",
            "391/391 [==============================] - 29s 75ms/step - loss: 0.5735 - acc: 0.8448 - val_loss: 0.6392 - val_acc: 0.8282\n",
            "\n",
            "Epoch 00021: val_acc improved from 0.81040 to 0.82820, saving model to /content/saved_models/cifar10-resnet20v1-021.h5\n",
            "Epoch 22/50\n",
            "391/391 [==============================] - 29s 75ms/step - loss: 0.5626 - acc: 0.8493 - val_loss: 0.6963 - val_acc: 0.8171\n",
            "\n",
            "Epoch 00022: val_acc did not improve from 0.82820\n",
            "Epoch 23/50\n",
            "391/391 [==============================] - 30s 75ms/step - loss: 0.5565 - acc: 0.8510 - val_loss: 0.6115 - val_acc: 0.8330\n",
            "\n",
            "Epoch 00023: val_acc improved from 0.82820 to 0.83300, saving model to /content/saved_models/cifar10-resnet20v1-023.h5\n",
            "Epoch 24/50\n",
            "391/391 [==============================] - 29s 75ms/step - loss: 0.5512 - acc: 0.8509 - val_loss: 0.6343 - val_acc: 0.8247\n",
            "\n",
            "Epoch 00024: val_acc did not improve from 0.83300\n",
            "Epoch 25/50\n",
            "391/391 [==============================] - 29s 75ms/step - loss: 0.5457 - acc: 0.8537 - val_loss: 0.6011 - val_acc: 0.8422\n",
            "\n",
            "Epoch 00025: val_acc improved from 0.83300 to 0.84220, saving model to /content/saved_models/cifar10-resnet20v1-025.h5\n",
            "Epoch 26/50\n",
            "391/391 [==============================] - 29s 75ms/step - loss: 0.5348 - acc: 0.8556 - val_loss: 0.6544 - val_acc: 0.8252\n",
            "\n",
            "Epoch 00026: val_acc did not improve from 0.84220\n",
            "Epoch 27/50\n",
            "391/391 [==============================] - 29s 75ms/step - loss: 0.5318 - acc: 0.8566 - val_loss: 0.6280 - val_acc: 0.8326\n",
            "\n",
            "Epoch 00027: val_acc did not improve from 0.84220\n",
            "Epoch 28/50\n",
            "391/391 [==============================] - 30s 76ms/step - loss: 0.5220 - acc: 0.8610 - val_loss: 0.6526 - val_acc: 0.8294\n",
            "\n",
            "Epoch 00028: val_acc did not improve from 0.84220\n",
            "\n",
            "Epoch 00028: ReduceLROnPlateau reducing learning rate to 0.00024009999469853935.\n",
            "Epoch 29/50\n",
            "391/391 [==============================] - 29s 75ms/step - loss: 0.5043 - acc: 0.8667 - val_loss: 0.6076 - val_acc: 0.8366\n",
            "\n",
            "Epoch 00029: val_acc did not improve from 0.84220\n",
            "Epoch 30/50\n",
            "391/391 [==============================] - 29s 75ms/step - loss: 0.4924 - acc: 0.8704 - val_loss: 0.5494 - val_acc: 0.8533\n",
            "\n",
            "Epoch 00030: val_acc improved from 0.84220 to 0.85330, saving model to /content/saved_models/cifar10-resnet20v1-030.h5\n",
            "Epoch 31/50\n",
            "391/391 [==============================] - 29s 75ms/step - loss: 0.4917 - acc: 0.8681 - val_loss: 0.5849 - val_acc: 0.8420\n",
            "\n",
            "Epoch 00031: val_acc did not improve from 0.85330\n",
            "Epoch 32/50\n",
            "391/391 [==============================] - 29s 75ms/step - loss: 0.4839 - acc: 0.8731 - val_loss: 0.5755 - val_acc: 0.8503\n",
            "\n",
            "Epoch 00032: val_acc did not improve from 0.85330\n",
            "Epoch 33/50\n",
            "391/391 [==============================] - 29s 75ms/step - loss: 0.4788 - acc: 0.8755 - val_loss: 0.5394 - val_acc: 0.8579\n",
            "\n",
            "Epoch 00033: val_acc improved from 0.85330 to 0.85790, saving model to /content/saved_models/cifar10-resnet20v1-033.h5\n",
            "Epoch 34/50\n",
            "391/391 [==============================] - 29s 75ms/step - loss: 0.4790 - acc: 0.8725 - val_loss: 0.6314 - val_acc: 0.8327\n",
            "\n",
            "Epoch 00034: val_acc did not improve from 0.85790\n",
            "Epoch 35/50\n",
            "391/391 [==============================] - 29s 75ms/step - loss: 0.4766 - acc: 0.8739 - val_loss: 0.5910 - val_acc: 0.8420\n",
            "\n",
            "Epoch 00035: val_acc did not improve from 0.85790\n",
            "Epoch 36/50\n",
            "391/391 [==============================] - 29s 75ms/step - loss: 0.4673 - acc: 0.8784 - val_loss: 0.6418 - val_acc: 0.8292\n",
            "\n",
            "Epoch 00036: val_acc did not improve from 0.85790\n",
            "\n",
            "Epoch 00036: ReduceLROnPlateau reducing learning rate to 0.00016806999628897755.\n",
            "Epoch 37/50\n",
            "391/391 [==============================] - 29s 75ms/step - loss: 0.4548 - acc: 0.8818 - val_loss: 0.5574 - val_acc: 0.8567\n",
            "\n",
            "Epoch 00037: val_acc did not improve from 0.85790\n",
            "Epoch 38/50\n",
            "391/391 [==============================] - 30s 76ms/step - loss: 0.4442 - acc: 0.8851 - val_loss: 0.5645 - val_acc: 0.8549\n",
            "\n",
            "Epoch 00038: val_acc did not improve from 0.85790\n",
            "Epoch 39/50\n",
            "391/391 [==============================] - 29s 75ms/step - loss: 0.4451 - acc: 0.8836 - val_loss: 0.5222 - val_acc: 0.8676\n",
            "\n",
            "Epoch 00039: val_acc improved from 0.85790 to 0.86760, saving model to /content/saved_models/cifar10-resnet20v1-039.h5\n",
            "Epoch 40/50\n",
            "391/391 [==============================] - 30s 76ms/step - loss: 0.4404 - acc: 0.8853 - val_loss: 0.5372 - val_acc: 0.8628\n",
            "\n",
            "Epoch 00040: val_acc did not improve from 0.86760\n",
            "Epoch 41/50\n",
            "391/391 [==============================] - 29s 75ms/step - loss: 0.4396 - acc: 0.8864 - val_loss: 0.5278 - val_acc: 0.8625\n",
            "\n",
            "Epoch 00041: val_acc did not improve from 0.86760\n",
            "Epoch 42/50\n",
            "391/391 [==============================] - 29s 75ms/step - loss: 0.4327 - acc: 0.8886 - val_loss: 0.5094 - val_acc: 0.8685\n",
            "\n",
            "Epoch 00042: val_acc improved from 0.86760 to 0.86850, saving model to /content/saved_models/cifar10-resnet20v1-042.h5\n",
            "Epoch 43/50\n",
            "391/391 [==============================] - 29s 75ms/step - loss: 0.4342 - acc: 0.8880 - val_loss: 0.5376 - val_acc: 0.8613\n",
            "\n",
            "Epoch 00043: val_acc did not improve from 0.86850\n",
            "Epoch 44/50\n",
            "391/391 [==============================] - 29s 75ms/step - loss: 0.4310 - acc: 0.8882 - val_loss: 0.5972 - val_acc: 0.8435\n",
            "\n",
            "Epoch 00044: val_acc did not improve from 0.86850\n",
            "Epoch 45/50\n",
            "391/391 [==============================] - 29s 75ms/step - loss: 0.4281 - acc: 0.8901 - val_loss: 0.5408 - val_acc: 0.8589\n",
            "\n",
            "Epoch 00045: val_acc did not improve from 0.86850\n",
            "\n",
            "Epoch 00045: ReduceLROnPlateau reducing learning rate to 0.00011764899536501615.\n",
            "Epoch 46/50\n",
            "391/391 [==============================] - 30s 76ms/step - loss: 0.4174 - acc: 0.8921 - val_loss: 0.5488 - val_acc: 0.8555\n",
            "\n",
            "Epoch 00046: val_acc did not improve from 0.86850\n",
            "Epoch 47/50\n",
            "391/391 [==============================] - 29s 75ms/step - loss: 0.4102 - acc: 0.8945 - val_loss: 0.5422 - val_acc: 0.8609\n",
            "\n",
            "Epoch 00047: val_acc did not improve from 0.86850\n",
            "Epoch 48/50\n",
            "391/391 [==============================] - 30s 76ms/step - loss: 0.4099 - acc: 0.8943 - val_loss: 0.5410 - val_acc: 0.8600\n",
            "\n",
            "Epoch 00048: val_acc did not improve from 0.86850\n",
            "\n",
            "Epoch 00048: ReduceLROnPlateau reducing learning rate to 8.235429777414538e-05.\n",
            "Epoch 49/50\n",
            "391/391 [==============================] - 30s 77ms/step - loss: 0.3980 - acc: 0.8986 - val_loss: 0.5103 - val_acc: 0.8696\n",
            "\n",
            "Epoch 00049: val_acc improved from 0.86850 to 0.86960, saving model to /content/saved_models/cifar10-resnet20v1-049.h5\n",
            "Epoch 50/50\n",
            "391/391 [==============================] - 30s 76ms/step - loss: 0.3984 - acc: 0.8990 - val_loss: 0.5241 - val_acc: 0.8659\n",
            "\n",
            "Epoch 00050: val_acc did not improve from 0.86960\n"
          ],
          "name": "stdout"
        },
        {
          "output_type": "execute_result",
          "data": {
            "text/plain": [
              "<keras.callbacks.History at 0x7f14e0357898>"
            ]
          },
          "metadata": {
            "tags": []
          },
          "execution_count": 23
        }
      ]
    },
    {
      "cell_type": "markdown",
      "metadata": {
        "id": "QcAQ89qNbLJe",
        "colab_type": "text"
      },
      "source": [
        "### Without Cutout"
      ]
    },
    {
      "cell_type": "code",
      "metadata": {
        "id": "XOHi1wNTraOh",
        "colab_type": "code",
        "colab": {
          "base_uri": "https://localhost:8080/",
          "height": 1000
        },
        "outputId": "dc5bc795-21b8-4276-b78e-355f6d5672e0"
      },
      "source": [
        "reduce_lr = ReduceLROnPlateau(factor=0.7, patience=3, verbose=1, min_lr=1e-6)\n",
        "checkpoints = ModelCheckpoint(filepath=filepath, verbose=1, save_best_only=True, monitor='val_acc')\n",
        "callbacks = [checkpoints, reduce_lr]\n",
        "datagen = ImageDataGenerator(rotation_range=10, width_shift_range=0.1, \n",
        "                             height_shift_range=0.1, zoom_range=0.1, horizontal_flip=True)\n",
        "\n",
        "datagen.fit(x_train)\n",
        "\n",
        "model.fit_generator(datagen.flow(x_train, y_train, batch_size=batch_size),\n",
        "                    validation_data=(x_test, y_test), epochs=epochs, verbose=1, workers=4, callbacks=callbacks)"
      ],
      "execution_count": 26,
      "outputs": [
        {
          "output_type": "stream",
          "text": [
            "Epoch 1/50\n",
            "391/391 [==============================] - 35s 88ms/step - loss: 1.7092 - acc: 0.4353 - val_loss: 1.5667 - val_acc: 0.4766\n",
            "\n",
            "Epoch 00001: val_acc improved from -inf to 0.47660, saving model to /content/saved_models/cifar10-resnet20v1-001.h5\n",
            "Epoch 2/50\n",
            "391/391 [==============================] - 29s 75ms/step - loss: 1.3063 - acc: 0.5827 - val_loss: 1.2700 - val_acc: 0.5967\n",
            "\n",
            "Epoch 00002: val_acc improved from 0.47660 to 0.59670, saving model to /content/saved_models/cifar10-resnet20v1-002.h5\n",
            "Epoch 3/50\n",
            "391/391 [==============================] - 30s 76ms/step - loss: 1.1022 - acc: 0.6605 - val_loss: 1.3330 - val_acc: 0.6176\n",
            "\n",
            "Epoch 00003: val_acc improved from 0.59670 to 0.61760, saving model to /content/saved_models/cifar10-resnet20v1-003.h5\n",
            "Epoch 4/50\n",
            "391/391 [==============================] - 29s 75ms/step - loss: 0.9945 - acc: 0.7010 - val_loss: 1.1835 - val_acc: 0.6458\n",
            "\n",
            "Epoch 00004: val_acc improved from 0.61760 to 0.64580, saving model to /content/saved_models/cifar10-resnet20v1-004.h5\n",
            "Epoch 5/50\n",
            "391/391 [==============================] - 30s 76ms/step - loss: 0.9097 - acc: 0.7320 - val_loss: 1.1521 - val_acc: 0.6707\n",
            "\n",
            "Epoch 00005: val_acc improved from 0.64580 to 0.67070, saving model to /content/saved_models/cifar10-resnet20v1-005.h5\n",
            "Epoch 6/50\n",
            "391/391 [==============================] - 30s 75ms/step - loss: 0.8495 - acc: 0.7528 - val_loss: 0.9735 - val_acc: 0.7195\n",
            "\n",
            "Epoch 00006: val_acc improved from 0.67070 to 0.71950, saving model to /content/saved_models/cifar10-resnet20v1-006.h5\n",
            "Epoch 7/50\n",
            "391/391 [==============================] - 29s 75ms/step - loss: 0.8106 - acc: 0.7659 - val_loss: 0.9625 - val_acc: 0.7198\n",
            "\n",
            "Epoch 00007: val_acc improved from 0.71950 to 0.71980, saving model to /content/saved_models/cifar10-resnet20v1-007.h5\n",
            "Epoch 8/50\n",
            "391/391 [==============================] - 29s 75ms/step - loss: 0.7755 - acc: 0.7806 - val_loss: 0.8899 - val_acc: 0.7495\n",
            "\n",
            "Epoch 00008: val_acc improved from 0.71980 to 0.74950, saving model to /content/saved_models/cifar10-resnet20v1-008.h5\n",
            "Epoch 9/50\n",
            "391/391 [==============================] - 29s 75ms/step - loss: 0.7420 - acc: 0.7938 - val_loss: 0.8752 - val_acc: 0.7517\n",
            "\n",
            "Epoch 00009: val_acc improved from 0.74950 to 0.75170, saving model to /content/saved_models/cifar10-resnet20v1-009.h5\n",
            "Epoch 10/50\n",
            "391/391 [==============================] - 29s 75ms/step - loss: 0.7127 - acc: 0.8041 - val_loss: 0.8326 - val_acc: 0.7704\n",
            "\n",
            "Epoch 00010: val_acc improved from 0.75170 to 0.77040, saving model to /content/saved_models/cifar10-resnet20v1-010.h5\n",
            "Epoch 11/50\n",
            "391/391 [==============================] - 29s 75ms/step - loss: 0.6941 - acc: 0.8080 - val_loss: 0.7771 - val_acc: 0.7798\n",
            "\n",
            "Epoch 00011: val_acc improved from 0.77040 to 0.77980, saving model to /content/saved_models/cifar10-resnet20v1-011.h5\n",
            "Epoch 12/50\n",
            "391/391 [==============================] - 29s 75ms/step - loss: 0.6775 - acc: 0.8130 - val_loss: 1.0091 - val_acc: 0.7488\n",
            "\n",
            "Epoch 00012: val_acc did not improve from 0.77980\n",
            "Epoch 13/50\n",
            "391/391 [==============================] - 29s 75ms/step - loss: 0.6557 - acc: 0.8215 - val_loss: 0.9949 - val_acc: 0.7211\n",
            "\n",
            "Epoch 00013: val_acc did not improve from 0.77980\n",
            "Epoch 14/50\n",
            "391/391 [==============================] - 29s 75ms/step - loss: 0.6397 - acc: 0.8285 - val_loss: 0.9793 - val_acc: 0.7464\n",
            "\n",
            "Epoch 00014: val_acc did not improve from 0.77980\n",
            "\n",
            "Epoch 00014: ReduceLROnPlateau reducing learning rate to 0.0007000000332482159.\n",
            "Epoch 15/50\n",
            "391/391 [==============================] - 30s 76ms/step - loss: 0.5951 - acc: 0.8413 - val_loss: 0.8818 - val_acc: 0.7605\n",
            "\n",
            "Epoch 00015: val_acc did not improve from 0.77980\n",
            "Epoch 16/50\n",
            "391/391 [==============================] - 30s 75ms/step - loss: 0.5739 - acc: 0.8486 - val_loss: 1.0354 - val_acc: 0.7370\n",
            "\n",
            "Epoch 00016: val_acc did not improve from 0.77980\n",
            "Epoch 17/50\n",
            "391/391 [==============================] - 29s 75ms/step - loss: 0.5623 - acc: 0.8533 - val_loss: 0.7721 - val_acc: 0.7928\n",
            "\n",
            "Epoch 00017: val_acc improved from 0.77980 to 0.79280, saving model to /content/saved_models/cifar10-resnet20v1-017.h5\n",
            "Epoch 18/50\n",
            "391/391 [==============================] - 29s 75ms/step - loss: 0.5528 - acc: 0.8569 - val_loss: 0.8574 - val_acc: 0.7722\n",
            "\n",
            "Epoch 00018: val_acc did not improve from 0.79280\n",
            "Epoch 19/50\n",
            "391/391 [==============================] - 29s 75ms/step - loss: 0.5427 - acc: 0.8592 - val_loss: 0.8295 - val_acc: 0.7775\n",
            "\n",
            "Epoch 00019: val_acc did not improve from 0.79280\n",
            "Epoch 20/50\n",
            "391/391 [==============================] - 29s 75ms/step - loss: 0.5295 - acc: 0.8633 - val_loss: 0.6785 - val_acc: 0.8175\n",
            "\n",
            "Epoch 00020: val_acc improved from 0.79280 to 0.81750, saving model to /content/saved_models/cifar10-resnet20v1-020.h5\n",
            "Epoch 21/50\n",
            "391/391 [==============================] - 30s 76ms/step - loss: 0.5235 - acc: 0.8661 - val_loss: 0.7183 - val_acc: 0.8152\n",
            "\n",
            "Epoch 00021: val_acc did not improve from 0.81750\n",
            "Epoch 22/50\n",
            "391/391 [==============================] - 29s 75ms/step - loss: 0.5175 - acc: 0.8652 - val_loss: 0.7583 - val_acc: 0.8040\n",
            "\n",
            "Epoch 00022: val_acc did not improve from 0.81750\n",
            "Epoch 23/50\n",
            "391/391 [==============================] - 29s 75ms/step - loss: 0.5068 - acc: 0.8699 - val_loss: 0.7257 - val_acc: 0.8092\n",
            "\n",
            "Epoch 00023: val_acc did not improve from 0.81750\n",
            "\n",
            "Epoch 00023: ReduceLROnPlateau reducing learning rate to 0.0004900000232737511.\n",
            "Epoch 24/50\n",
            "391/391 [==============================] - 30s 76ms/step - loss: 0.4751 - acc: 0.8799 - val_loss: 0.7023 - val_acc: 0.8136\n",
            "\n",
            "Epoch 00024: val_acc did not improve from 0.81750\n",
            "Epoch 25/50\n",
            "391/391 [==============================] - 30s 76ms/step - loss: 0.4637 - acc: 0.8847 - val_loss: 0.7004 - val_acc: 0.8171\n",
            "\n",
            "Epoch 00025: val_acc did not improve from 0.81750\n",
            "Epoch 26/50\n",
            "391/391 [==============================] - 30s 76ms/step - loss: 0.4575 - acc: 0.8866 - val_loss: 0.6879 - val_acc: 0.8207\n",
            "\n",
            "Epoch 00026: val_acc improved from 0.81750 to 0.82070, saving model to /content/saved_models/cifar10-resnet20v1-026.h5\n",
            "\n",
            "Epoch 00026: ReduceLROnPlateau reducing learning rate to 0.00034300000406801696.\n",
            "Epoch 27/50\n",
            "391/391 [==============================] - 30s 76ms/step - loss: 0.4298 - acc: 0.8961 - val_loss: 0.5465 - val_acc: 0.8645\n",
            "\n",
            "Epoch 00027: val_acc improved from 0.82070 to 0.86450, saving model to /content/saved_models/cifar10-resnet20v1-027.h5\n",
            "Epoch 28/50\n",
            "391/391 [==============================] - 29s 75ms/step - loss: 0.4219 - acc: 0.8972 - val_loss: 0.5676 - val_acc: 0.8536\n",
            "\n",
            "Epoch 00028: val_acc did not improve from 0.86450\n",
            "Epoch 29/50\n",
            "391/391 [==============================] - 29s 75ms/step - loss: 0.4151 - acc: 0.8984 - val_loss: 0.6205 - val_acc: 0.8385\n",
            "\n",
            "Epoch 00029: val_acc did not improve from 0.86450\n",
            "Epoch 30/50\n",
            "391/391 [==============================] - 30s 76ms/step - loss: 0.4070 - acc: 0.9025 - val_loss: 0.7259 - val_acc: 0.8204\n",
            "\n",
            "Epoch 00030: val_acc did not improve from 0.86450\n",
            "\n",
            "Epoch 00030: ReduceLROnPlateau reducing learning rate to 0.00024009999469853935.\n",
            "Epoch 31/50\n",
            "391/391 [==============================] - 30s 75ms/step - loss: 0.3928 - acc: 0.9066 - val_loss: 0.5390 - val_acc: 0.8655\n",
            "\n",
            "Epoch 00031: val_acc improved from 0.86450 to 0.86550, saving model to /content/saved_models/cifar10-resnet20v1-031.h5\n",
            "Epoch 32/50\n",
            "391/391 [==============================] - 30s 76ms/step - loss: 0.3829 - acc: 0.9098 - val_loss: 0.5698 - val_acc: 0.8566\n",
            "\n",
            "Epoch 00032: val_acc did not improve from 0.86550\n",
            "Epoch 33/50\n",
            "391/391 [==============================] - 29s 75ms/step - loss: 0.3793 - acc: 0.9104 - val_loss: 0.5506 - val_acc: 0.8618\n",
            "\n",
            "Epoch 00033: val_acc did not improve from 0.86550\n",
            "Epoch 34/50\n",
            "391/391 [==============================] - 29s 75ms/step - loss: 0.3778 - acc: 0.9100 - val_loss: 0.5117 - val_acc: 0.8726\n",
            "\n",
            "Epoch 00034: val_acc improved from 0.86550 to 0.87260, saving model to /content/saved_models/cifar10-resnet20v1-034.h5\n",
            "Epoch 35/50\n",
            "391/391 [==============================] - 30s 76ms/step - loss: 0.3683 - acc: 0.9131 - val_loss: 0.5410 - val_acc: 0.8647\n",
            "\n",
            "Epoch 00035: val_acc did not improve from 0.87260\n",
            "Epoch 36/50\n",
            "391/391 [==============================] - 30s 75ms/step - loss: 0.3656 - acc: 0.9142 - val_loss: 0.6109 - val_acc: 0.8475\n",
            "\n",
            "Epoch 00036: val_acc did not improve from 0.87260\n",
            "Epoch 37/50\n",
            "391/391 [==============================] - 30s 76ms/step - loss: 0.3663 - acc: 0.9131 - val_loss: 0.5055 - val_acc: 0.8764\n",
            "\n",
            "Epoch 00037: val_acc improved from 0.87260 to 0.87640, saving model to /content/saved_models/cifar10-resnet20v1-037.h5\n",
            "Epoch 38/50\n",
            "391/391 [==============================] - 29s 75ms/step - loss: 0.3583 - acc: 0.9164 - val_loss: 0.5367 - val_acc: 0.8688\n",
            "\n",
            "Epoch 00038: val_acc did not improve from 0.87640\n",
            "Epoch 39/50\n",
            "391/391 [==============================] - 30s 77ms/step - loss: 0.3533 - acc: 0.9169 - val_loss: 0.5176 - val_acc: 0.8729\n",
            "\n",
            "Epoch 00039: val_acc did not improve from 0.87640\n",
            "Epoch 40/50\n",
            "391/391 [==============================] - 30s 76ms/step - loss: 0.3502 - acc: 0.9194 - val_loss: 0.5404 - val_acc: 0.8656\n",
            "\n",
            "Epoch 00040: val_acc did not improve from 0.87640\n",
            "\n",
            "Epoch 00040: ReduceLROnPlateau reducing learning rate to 0.00016806999628897755.\n",
            "Epoch 41/50\n",
            "391/391 [==============================] - 30s 76ms/step - loss: 0.3388 - acc: 0.9225 - val_loss: 0.5327 - val_acc: 0.8694\n",
            "\n",
            "Epoch 00041: val_acc did not improve from 0.87640\n",
            "Epoch 42/50\n",
            "391/391 [==============================] - 30s 77ms/step - loss: 0.3319 - acc: 0.9253 - val_loss: 0.5187 - val_acc: 0.8735\n",
            "\n",
            "Epoch 00042: val_acc did not improve from 0.87640\n",
            "Epoch 43/50\n",
            "391/391 [==============================] - 30s 78ms/step - loss: 0.3299 - acc: 0.9243 - val_loss: 0.5286 - val_acc: 0.8710\n",
            "\n",
            "Epoch 00043: val_acc did not improve from 0.87640\n",
            "\n",
            "Epoch 00043: ReduceLROnPlateau reducing learning rate to 0.00011764899536501615.\n",
            "Epoch 44/50\n",
            "391/391 [==============================] - 30s 77ms/step - loss: 0.3233 - acc: 0.9278 - val_loss: 0.4666 - val_acc: 0.8865\n",
            "\n",
            "Epoch 00044: val_acc improved from 0.87640 to 0.88650, saving model to /content/saved_models/cifar10-resnet20v1-044.h5\n",
            "Epoch 45/50\n",
            "391/391 [==============================] - 30s 76ms/step - loss: 0.3143 - acc: 0.9305 - val_loss: 0.5243 - val_acc: 0.8745\n",
            "\n",
            "Epoch 00045: val_acc did not improve from 0.88650\n",
            "Epoch 46/50\n",
            "391/391 [==============================] - 30s 77ms/step - loss: 0.3156 - acc: 0.9291 - val_loss: 0.5504 - val_acc: 0.8675\n",
            "\n",
            "Epoch 00046: val_acc did not improve from 0.88650\n",
            "Epoch 47/50\n",
            "391/391 [==============================] - 30s 77ms/step - loss: 0.3108 - acc: 0.9313 - val_loss: 0.5418 - val_acc: 0.8700\n",
            "\n",
            "Epoch 00047: val_acc did not improve from 0.88650\n",
            "\n",
            "Epoch 00047: ReduceLROnPlateau reducing learning rate to 8.235429777414538e-05.\n",
            "Epoch 48/50\n",
            "391/391 [==============================] - 30s 76ms/step - loss: 0.3033 - acc: 0.9341 - val_loss: 0.5034 - val_acc: 0.8789\n",
            "\n",
            "Epoch 00048: val_acc did not improve from 0.88650\n",
            "Epoch 49/50\n",
            "391/391 [==============================] - 30s 76ms/step - loss: 0.3025 - acc: 0.9339 - val_loss: 0.5123 - val_acc: 0.8768\n",
            "\n",
            "Epoch 00049: val_acc did not improve from 0.88650\n",
            "Epoch 50/50\n",
            "391/391 [==============================] - 30s 76ms/step - loss: 0.2988 - acc: 0.9355 - val_loss: 0.4796 - val_acc: 0.8847\n",
            "\n",
            "Epoch 00050: val_acc did not improve from 0.88650\n",
            "\n",
            "Epoch 00050: ReduceLROnPlateau reducing learning rate to 5.76480058953166e-05.\n"
          ],
          "name": "stdout"
        },
        {
          "output_type": "execute_result",
          "data": {
            "text/plain": [
              "<keras.callbacks.History at 0x7f14f6f71908>"
            ]
          },
          "metadata": {
            "tags": []
          },
          "execution_count": 26
        }
      ]
    },
    {
      "cell_type": "code",
      "metadata": {
        "id": "ICozE7TeiFZ_",
        "colab_type": "code",
        "colab": {}
      },
      "source": [
        "from pathlib import Path"
      ],
      "execution_count": 0,
      "outputs": []
    },
    {
      "cell_type": "code",
      "metadata": {
        "id": "sIV7hs-DbXAg",
        "colab_type": "code",
        "colab": {
          "base_uri": "https://localhost:8080/",
          "height": 34
        },
        "outputId": "f9a9a6b6-2b74-4a41-a868-6eeee0613579"
      },
      "source": [
        "from google.colab import drive\n",
        "drive.mount('/content/gdrive', force_remount=True)\n",
        "root_dir = \"/content/gdrive/My Drive/\"\n",
        "base_dir = root_dir + 'ML-Models'\n",
        "\n",
        "# save in google drive\n",
        "dir_path = Path(base_dir)\n",
        "dir_path.mkdir(parents=True, exist_ok=True)"
      ],
      "execution_count": 15,
      "outputs": [
        {
          "output_type": "stream",
          "text": [
            "Mounted at /content/gdrive\n"
          ],
          "name": "stdout"
        }
      ]
    },
    {
      "cell_type": "code",
      "metadata": {
        "id": "J5SZXHqKh-iT",
        "colab_type": "code",
        "colab": {}
      },
      "source": [
        "!cp /content/saved_models/cifar10-resnet20v1-044.h5 /content/gdrive/My\\ Drive/ML-Models/"
      ],
      "execution_count": 0,
      "outputs": []
    },
    {
      "cell_type": "code",
      "metadata": {
        "id": "i4XMW6Ocitao",
        "colab_type": "code",
        "colab": {}
      },
      "source": [
        "# (x, y, channel, no_of_filters) -> output of get weights [weights, bias], for weights\n",
        "def display_weights_of_a_channel_of_a_layer(*, layer_num: int = 0, channel_num: int = 0, cmap: str = None):\n",
        "    layer_1_weights  = model.layers[layer_num].get_weights()[0][:, :, channel_num, :]\n",
        "    no_of_kernels = len(layer_1_weights[0, 0, :])\n",
        "    row_num, col_num = 2, no_of_kernels // 2\n",
        "\n",
        "    fig, ax = plt.subplots(row_num, col_num, figsize=(30, 6))\n",
        "    kernel_num = 0\n",
        "    for row in range(row_num):\n",
        "        for col in range(col_num):\n",
        "            ax[row][col].imshow(layer_1_weights[:, :, kernel_num], cmap=cmap)\n",
        "            kernel_num += 1"
      ],
      "execution_count": 0,
      "outputs": []
    },
    {
      "cell_type": "code",
      "metadata": {
        "id": "ljTVglL0rOQu",
        "colab_type": "code",
        "colab": {
          "base_uri": "https://localhost:8080/",
          "height": 290
        },
        "outputId": "c68618ad-ee00-4a93-c013-3d591eef7bf8"
      },
      "source": [
        "display_weights_of_a_channel_of_a_layer(layer_num=-7, channel_num=0)"
      ],
      "execution_count": 61,
      "outputs": [
        {
          "output_type": "display_data",
          "data": {
            "image/png": "[encoded data removed]",
            "text/plain": [
              "<Figure size 2160x432 with 64 Axes>"
            ]
          },
          "metadata": {
            "tags": []
          }
        }
      ]
    },
    {
      "cell_type": "code",
      "metadata": {
        "id": "eft-PKwRsqW-",
        "colab_type": "code",
        "colab": {
          "base_uri": "https://localhost:8080/",
          "height": 34
        },
        "outputId": "4f1de5f6-d33a-4e27-c12a-756a1d0b08f5"
      },
      "source": [
        "model.layers[4].get_weights()[0].shape"
      ],
      "execution_count": 48,
      "outputs": [
        {
          "output_type": "execute_result",
          "data": {
            "text/plain": [
              "(3, 3, 16, 16)"
            ]
          },
          "metadata": {
            "tags": []
          },
          "execution_count": 48
        }
      ]
    },
    {
      "cell_type": "code",
      "metadata": {
        "id": "afy7X0NwWi_p",
        "colab_type": "code",
        "colab": {}
      },
      "source": [
        "from keras.models import load_model"
      ],
      "execution_count": 0,
      "outputs": []
    },
    {
      "cell_type": "code",
      "metadata": {
        "id": "PLQKkIVKWlji",
        "colab_type": "code",
        "colab": {}
      },
      "source": [
        "model = load_model('/content/gdrive/My Drive/ML-Models/cifar10-resnet20v1-044.h5')"
      ],
      "execution_count": 0,
      "outputs": []
    },
    {
      "cell_type": "code",
      "metadata": {
        "id": "0oifzJDZWldF",
        "colab_type": "code",
        "colab": {
          "base_uri": "https://localhost:8080/",
          "height": 1000
        },
        "outputId": "12914598-6c27-49d3-ab6e-d829a57be19d"
      },
      "source": [
        "model.summary()"
      ],
      "execution_count": 17,
      "outputs": [
        {
          "output_type": "stream",
          "text": [
            "Model: \"model_2\"\n",
            "__________________________________________________________________________________________________\n",
            "Layer (type)                    Output Shape         Param #     Connected to                     \n",
            "==================================================================================================\n",
            "input_2 (InputLayer)            (None, 32, 32, 3)    0                                            \n",
            "__________________________________________________________________________________________________\n",
            "conv2d_22 (Conv2D)              (None, 32, 32, 16)   448         input_2[0][0]                    \n",
            "__________________________________________________________________________________________________\n",
            "batch_normalization_20 (BatchNo (None, 32, 32, 16)   64          conv2d_22[0][0]                  \n",
            "__________________________________________________________________________________________________\n",
            "activation_20 (Activation)      (None, 32, 32, 16)   0           batch_normalization_20[0][0]     \n",
            "__________________________________________________________________________________________________\n",
            "conv2d_23 (Conv2D)              (None, 32, 32, 16)   2320        activation_20[0][0]              \n",
            "__________________________________________________________________________________________________\n",
            "batch_normalization_21 (BatchNo (None, 32, 32, 16)   64          conv2d_23[0][0]                  \n",
            "__________________________________________________________________________________________________\n",
            "activation_21 (Activation)      (None, 32, 32, 16)   0           batch_normalization_21[0][0]     \n",
            "__________________________________________________________________________________________________\n",
            "conv2d_24 (Conv2D)              (None, 32, 32, 16)   2320        activation_21[0][0]              \n",
            "__________________________________________________________________________________________________\n",
            "batch_normalization_22 (BatchNo (None, 32, 32, 16)   64          conv2d_24[0][0]                  \n",
            "__________________________________________________________________________________________________\n",
            "add_10 (Add)                    (None, 32, 32, 16)   0           activation_20[0][0]              \n",
            "                                                                 batch_normalization_22[0][0]     \n",
            "__________________________________________________________________________________________________\n",
            "activation_22 (Activation)      (None, 32, 32, 16)   0           add_10[0][0]                     \n",
            "__________________________________________________________________________________________________\n",
            "conv2d_25 (Conv2D)              (None, 32, 32, 16)   2320        activation_22[0][0]              \n",
            "__________________________________________________________________________________________________\n",
            "batch_normalization_23 (BatchNo (None, 32, 32, 16)   64          conv2d_25[0][0]                  \n",
            "__________________________________________________________________________________________________\n",
            "activation_23 (Activation)      (None, 32, 32, 16)   0           batch_normalization_23[0][0]     \n",
            "__________________________________________________________________________________________________\n",
            "conv2d_26 (Conv2D)              (None, 32, 32, 16)   2320        activation_23[0][0]              \n",
            "__________________________________________________________________________________________________\n",
            "batch_normalization_24 (BatchNo (None, 32, 32, 16)   64          conv2d_26[0][0]                  \n",
            "__________________________________________________________________________________________________\n",
            "add_11 (Add)                    (None, 32, 32, 16)   0           activation_22[0][0]              \n",
            "                                                                 batch_normalization_24[0][0]     \n",
            "__________________________________________________________________________________________________\n",
            "activation_24 (Activation)      (None, 32, 32, 16)   0           add_11[0][0]                     \n",
            "__________________________________________________________________________________________________\n",
            "conv2d_27 (Conv2D)              (None, 32, 32, 16)   2320        activation_24[0][0]              \n",
            "__________________________________________________________________________________________________\n",
            "batch_normalization_25 (BatchNo (None, 32, 32, 16)   64          conv2d_27[0][0]                  \n",
            "__________________________________________________________________________________________________\n",
            "activation_25 (Activation)      (None, 32, 32, 16)   0           batch_normalization_25[0][0]     \n",
            "__________________________________________________________________________________________________\n",
            "conv2d_28 (Conv2D)              (None, 32, 32, 16)   2320        activation_25[0][0]              \n",
            "__________________________________________________________________________________________________\n",
            "batch_normalization_26 (BatchNo (None, 32, 32, 16)   64          conv2d_28[0][0]                  \n",
            "__________________________________________________________________________________________________\n",
            "add_12 (Add)                    (None, 32, 32, 16)   0           activation_24[0][0]              \n",
            "                                                                 batch_normalization_26[0][0]     \n",
            "__________________________________________________________________________________________________\n",
            "activation_26 (Activation)      (None, 32, 32, 16)   0           add_12[0][0]                     \n",
            "__________________________________________________________________________________________________\n",
            "conv2d_29 (Conv2D)              (None, 16, 16, 32)   4640        activation_26[0][0]              \n",
            "__________________________________________________________________________________________________\n",
            "batch_normalization_27 (BatchNo (None, 16, 16, 32)   128         conv2d_29[0][0]                  \n",
            "__________________________________________________________________________________________________\n",
            "activation_27 (Activation)      (None, 16, 16, 32)   0           batch_normalization_27[0][0]     \n",
            "__________________________________________________________________________________________________\n",
            "conv2d_30 (Conv2D)              (None, 16, 16, 32)   9248        activation_27[0][0]              \n",
            "__________________________________________________________________________________________________\n",
            "conv2d_31 (Conv2D)              (None, 16, 16, 32)   544         activation_26[0][0]              \n",
            "__________________________________________________________________________________________________\n",
            "batch_normalization_28 (BatchNo (None, 16, 16, 32)   128         conv2d_30[0][0]                  \n",
            "__________________________________________________________________________________________________\n",
            "add_13 (Add)                    (None, 16, 16, 32)   0           conv2d_31[0][0]                  \n",
            "                                                                 batch_normalization_28[0][0]     \n",
            "__________________________________________________________________________________________________\n",
            "activation_28 (Activation)      (None, 16, 16, 32)   0           add_13[0][0]                     \n",
            "__________________________________________________________________________________________________\n",
            "conv2d_32 (Conv2D)              (None, 16, 16, 32)   9248        activation_28[0][0]              \n",
            "__________________________________________________________________________________________________\n",
            "batch_normalization_29 (BatchNo (None, 16, 16, 32)   128         conv2d_32[0][0]                  \n",
            "__________________________________________________________________________________________________\n",
            "activation_29 (Activation)      (None, 16, 16, 32)   0           batch_normalization_29[0][0]     \n",
            "__________________________________________________________________________________________________\n",
            "conv2d_33 (Conv2D)              (None, 16, 16, 32)   9248        activation_29[0][0]              \n",
            "__________________________________________________________________________________________________\n",
            "batch_normalization_30 (BatchNo (None, 16, 16, 32)   128         conv2d_33[0][0]                  \n",
            "__________________________________________________________________________________________________\n",
            "add_14 (Add)                    (None, 16, 16, 32)   0           activation_28[0][0]              \n",
            "                                                                 batch_normalization_30[0][0]     \n",
            "__________________________________________________________________________________________________\n",
            "activation_30 (Activation)      (None, 16, 16, 32)   0           add_14[0][0]                     \n",
            "__________________________________________________________________________________________________\n",
            "conv2d_34 (Conv2D)              (None, 16, 16, 32)   9248        activation_30[0][0]              \n",
            "__________________________________________________________________________________________________\n",
            "batch_normalization_31 (BatchNo (None, 16, 16, 32)   128         conv2d_34[0][0]                  \n",
            "__________________________________________________________________________________________________\n",
            "activation_31 (Activation)      (None, 16, 16, 32)   0           batch_normalization_31[0][0]     \n",
            "__________________________________________________________________________________________________\n",
            "conv2d_35 (Conv2D)              (None, 16, 16, 32)   9248        activation_31[0][0]              \n",
            "__________________________________________________________________________________________________\n",
            "batch_normalization_32 (BatchNo (None, 16, 16, 32)   128         conv2d_35[0][0]                  \n",
            "__________________________________________________________________________________________________\n",
            "add_15 (Add)                    (None, 16, 16, 32)   0           activation_30[0][0]              \n",
            "                                                                 batch_normalization_32[0][0]     \n",
            "__________________________________________________________________________________________________\n",
            "activation_32 (Activation)      (None, 16, 16, 32)   0           add_15[0][0]                     \n",
            "__________________________________________________________________________________________________\n",
            "conv2d_36 (Conv2D)              (None, 8, 8, 64)     18496       activation_32[0][0]              \n",
            "__________________________________________________________________________________________________\n",
            "batch_normalization_33 (BatchNo (None, 8, 8, 64)     256         conv2d_36[0][0]                  \n",
            "__________________________________________________________________________________________________\n",
            "activation_33 (Activation)      (None, 8, 8, 64)     0           batch_normalization_33[0][0]     \n",
            "__________________________________________________________________________________________________\n",
            "conv2d_37 (Conv2D)              (None, 8, 8, 64)     36928       activation_33[0][0]              \n",
            "__________________________________________________________________________________________________\n",
            "conv2d_38 (Conv2D)              (None, 8, 8, 64)     2112        activation_32[0][0]              \n",
            "__________________________________________________________________________________________________\n",
            "batch_normalization_34 (BatchNo (None, 8, 8, 64)     256         conv2d_37[0][0]                  \n",
            "__________________________________________________________________________________________________\n",
            "add_16 (Add)                    (None, 8, 8, 64)     0           conv2d_38[0][0]                  \n",
            "                                                                 batch_normalization_34[0][0]     \n",
            "__________________________________________________________________________________________________\n",
            "activation_34 (Activation)      (None, 8, 8, 64)     0           add_16[0][0]                     \n",
            "__________________________________________________________________________________________________\n",
            "conv2d_39 (Conv2D)              (None, 8, 8, 64)     36928       activation_34[0][0]              \n",
            "__________________________________________________________________________________________________\n",
            "batch_normalization_35 (BatchNo (None, 8, 8, 64)     256         conv2d_39[0][0]                  \n",
            "__________________________________________________________________________________________________\n",
            "activation_35 (Activation)      (None, 8, 8, 64)     0           batch_normalization_35[0][0]     \n",
            "__________________________________________________________________________________________________\n",
            "conv2d_40 (Conv2D)              (None, 8, 8, 64)     36928       activation_35[0][0]              \n",
            "__________________________________________________________________________________________________\n",
            "batch_normalization_36 (BatchNo (None, 8, 8, 64)     256         conv2d_40[0][0]                  \n",
            "__________________________________________________________________________________________________\n",
            "add_17 (Add)                    (None, 8, 8, 64)     0           activation_34[0][0]              \n",
            "                                                                 batch_normalization_36[0][0]     \n",
            "__________________________________________________________________________________________________\n",
            "activation_36 (Activation)      (None, 8, 8, 64)     0           add_17[0][0]                     \n",
            "__________________________________________________________________________________________________\n",
            "conv2d_41 (Conv2D)              (None, 8, 8, 64)     36928       activation_36[0][0]              \n",
            "__________________________________________________________________________________________________\n",
            "batch_normalization_37 (BatchNo (None, 8, 8, 64)     256         conv2d_41[0][0]                  \n",
            "__________________________________________________________________________________________________\n",
            "activation_37 (Activation)      (None, 8, 8, 64)     0           batch_normalization_37[0][0]     \n",
            "__________________________________________________________________________________________________\n",
            "conv2d_42 (Conv2D)              (None, 8, 8, 64)     36928       activation_37[0][0]              \n",
            "__________________________________________________________________________________________________\n",
            "batch_normalization_38 (BatchNo (None, 8, 8, 64)     256         conv2d_42[0][0]                  \n",
            "__________________________________________________________________________________________________\n",
            "add_18 (Add)                    (None, 8, 8, 64)     0           activation_36[0][0]              \n",
            "                                                                 batch_normalization_38[0][0]     \n",
            "__________________________________________________________________________________________________\n",
            "activation_38 (Activation)      (None, 8, 8, 64)     0           add_18[0][0]                     \n",
            "__________________________________________________________________________________________________\n",
            "average_pooling2d_2 (AveragePoo (None, 1, 1, 64)     0           activation_38[0][0]              \n",
            "__________________________________________________________________________________________________\n",
            "flatten_2 (Flatten)             (None, 64)           0           average_pooling2d_2[0][0]        \n",
            "__________________________________________________________________________________________________\n",
            "dense_2 (Dense)                 (None, 10)           650         flatten_2[0][0]                  \n",
            "==================================================================================================\n",
            "Total params: 274,442\n",
            "Trainable params: 273,066\n",
            "Non-trainable params: 1,376\n",
            "__________________________________________________________________________________________________\n"
          ],
          "name": "stdout"
        }
      ]
    },
    {
      "cell_type": "markdown",
      "metadata": {
        "id": "2D8E2MJvyea2",
        "colab_type": "text"
      },
      "source": [
        "## All Grad-CAM labelled images are at the very end"
      ]
    },
    {
      "cell_type": "markdown",
      "metadata": {
        "id": "Ii3l3ZJKXpmc",
        "colab_type": "text"
      },
      "source": [
        "### GRAD CAM"
      ]
    },
    {
      "cell_type": "code",
      "metadata": {
        "id": "JzPo2uzLoqnY",
        "colab_type": "code",
        "colab": {}
      },
      "source": [
        "# images\n",
        "class_names = ['airplane','automobile','bird','cat','deer',\n",
        "               'dog','frog','horse','ship','truck']\n",
        "\n",
        "actual_images = {\n",
        "    'airplane': 'https://images.unsplash.com/photo-1532973497172-04b34d604825?ixlib=rb-1.2.1&ixid=eyJhcHBfaWQiOjEyMDd9&auto=format&fit=crop&w=741&q=80',\n",
        "    'automobile': 'https://www.abcconsultants.in/wp-content/uploads/2018/01/Automobile__Auto_Components_707x418-min.jpg',\n",
        "    'bird': 'https://www.thespruce.com/thmb/bS1rvJQcPY2BwMoeAOT_l8x__0Q=/960x0/filters:no_upscale():max_bytes(150000):strip_icc()/red-summer-tanager-58991d123df78caebc049ac4.jpg',\n",
        "    'cat': 'https://images.unsplash.com/photo-1482066490729-6f26115b60dc?ixlib=rb-1.2.1&ixid=eyJhcHBfaWQiOjEyMDd9&w=1000&q=80',\n",
        "    'deer': 'https://media.gettyimages.com/photos/deer-fawn-picture-id168504892?s=612x612',\n",
        "    'dog': 'https://hips.hearstapps.com/hmg-prod.s3.amazonaws.com/images/golden-retriever-royalty-free-image-506756303-1560962726.jpg?crop=0.669xw:1.00xh;0.166xw,0&resize=640:*',\n",
        "    'frog': 'https://images.unsplash.com/photo-1550853123-b81beb0b1449?ixlib=rb-1.2.1&dpr=1&auto=format&fit=crop&w=416&h=312&q=60',\n",
        "    'horse': 'https://images.unsplash.com/photo-1553284965-5dd8352ff1bd?ixlib=rb-1.2.1&w=1000&q=80',\n",
        "    'ship': 'https://upload.wikimedia.org/wikipedia/commons/b/b3/Zenith_%28ship%2C_1992%29.jpg',\n",
        "    'truck': 'https://www.tatamotors.com/wp-content/uploads/2018/01/19065024/prima.jpg'\n",
        "}"
      ],
      "execution_count": 0,
      "outputs": []
    },
    {
      "cell_type": "code",
      "metadata": {
        "id": "_4S1x6DMYGzw",
        "colab_type": "code",
        "colab": {}
      },
      "source": [
        "from skimage import io\n",
        "from google.colab.patches import cv2_imshow\n",
        "import cv2\n",
        "from keras.preprocessing import image"
      ],
      "execution_count": 0,
      "outputs": []
    },
    {
      "cell_type": "code",
      "metadata": {
        "id": "y5e7eOnxqu3X",
        "colab_type": "code",
        "colab": {
          "base_uri": "https://localhost:8080/",
          "height": 397
        },
        "outputId": "865f4a45-8f1d-4b2c-96dd-44bb5a897969"
      },
      "source": [
        "_, ax = plt.subplots(2, 5, figsize=(10, 8))\n",
        "row_num, col_num = 2, 5\n",
        "\n",
        "row, col = 0, 0 \n",
        "for name, url in actual_images.items():\n",
        "    try:\n",
        "        if col == 5:\n",
        "            col = 0\n",
        "            row += 1\n",
        "        image = io.imread(url)\n",
        "        image = cv2.resize(image, dsize=(32, 32), interpolation=cv2.INTER_CUBIC)\n",
        "        ax[row][col].imshow(image)\n",
        "        ax[row][col].set_title(name)\n",
        "        col += 1\n",
        "\n",
        "    except:\n",
        "        print(url)"
      ],
      "execution_count": 37,
      "outputs": [
        {
          "output_type": "display_data",
          "data": {
            "image/png": "[encoded data removed]",
            "text/plain": [
              "<Figure size 720x576 with 10 Axes>"
            ]
          },
          "metadata": {
            "tags": []
          }
        }
      ]
    },
    {
      "cell_type": "code",
      "metadata": {
        "id": "ZnmIegq0WlSb",
        "colab_type": "code",
        "colab": {}
      },
      "source": [
        "frog = io.imread(\"https://images.unsplash.com/photo-1550853123-b81beb0b1449?ixlib=rb-1.2.1&dpr=1&auto=format&fit=crop&w=416&h=312&q=60\")\n",
        "frog = cv2.resize(frog, dsize=(32, 32), interpolation=cv2.INTER_CUBIC)\n",
        "x = image.img_to_array(frog)\n",
        "x = np.expand_dims(x, axis=0)"
      ],
      "execution_count": 0,
      "outputs": []
    },
    {
      "cell_type": "code",
      "metadata": {
        "id": "HOtKeD6PYQbP",
        "colab_type": "code",
        "colab": {
          "base_uri": "https://localhost:8080/",
          "height": 266
        },
        "outputId": "c8a2dc9b-06e5-45bd-e285-8bfe2c8cdd6f"
      },
      "source": [
        "plt.imshow(frog);"
      ],
      "execution_count": 58,
      "outputs": [
        {
          "output_type": "display_data",
          "data": {
            "image/png": "[encoded data removed]",
            "text/plain": [
              "<Figure size 432x288 with 1 Axes>"
            ]
          },
          "metadata": {
            "tags": []
          }
        }
      ]
    },
    {
      "cell_type": "code",
      "metadata": {
        "id": "3JP4iB4-YoN5",
        "colab_type": "code",
        "colab": {}
      },
      "source": [
        "# preprocess image\n",
        "x /= 255\n",
        "x -= x_train_mean"
      ],
      "execution_count": 0,
      "outputs": []
    },
    {
      "cell_type": "code",
      "metadata": {
        "id": "muHlYpBzZI4Y",
        "colab_type": "code",
        "colab": {
          "base_uri": "https://localhost:8080/",
          "height": 34
        },
        "outputId": "2161c9c5-bd1b-4be6-e4b6-ef0998555e94"
      },
      "source": [
        "preds = model.predict(x)\n",
        "class_idx = np.argmax(preds[0]); class_idx"
      ],
      "execution_count": 60,
      "outputs": [
        {
          "output_type": "execute_result",
          "data": {
            "text/plain": [
              "6"
            ]
          },
          "metadata": {
            "tags": []
          },
          "execution_count": 60
        }
      ]
    },
    {
      "cell_type": "code",
      "metadata": {
        "id": "KqDUhX6LZI1W",
        "colab_type": "code",
        "colab": {}
      },
      "source": [
        "class_output = model.output[:, class_idx]\n",
        "last_conv_layer = model.get_layer(\"add_18\")"
      ],
      "execution_count": 0,
      "outputs": []
    },
    {
      "cell_type": "code",
      "metadata": {
        "id": "vYiKPDJRZIvp",
        "colab_type": "code",
        "colab": {
          "base_uri": "https://localhost:8080/",
          "height": 51
        },
        "outputId": "75fdb8ee-5364-4206-a81b-3578fbe5116a"
      },
      "source": [
        "grads = K.gradients(class_output, last_conv_layer.output)[0]\n",
        "print(grads.shape)\n",
        "pooled_grads = K.mean(grads, axis=(0, 1, 2))\n",
        "print(pooled_grads.shape)\n",
        "iterate = K.function([model.input], [pooled_grads, last_conv_layer.output[0]])"
      ],
      "execution_count": 62,
      "outputs": [
        {
          "output_type": "stream",
          "text": [
            "(?, 8, 8, 64)\n",
            "(64,)\n"
          ],
          "name": "stdout"
        }
      ]
    },
    {
      "cell_type": "code",
      "metadata": {
        "id": "XJcP25o6agBM",
        "colab_type": "code",
        "colab": {}
      },
      "source": [
        "\n",
        "pooled_grads_value, conv_layer_output_value = iterate([x])\n",
        "\n",
        "for i in range(64):\n",
        "  conv_layer_output_value[:, :, i] *= pooled_grads_value[i]"
      ],
      "execution_count": 0,
      "outputs": []
    },
    {
      "cell_type": "code",
      "metadata": {
        "id": "iU8so1uCa4Tu",
        "colab_type": "code",
        "colab": {
          "base_uri": "https://localhost:8080/",
          "height": 51
        },
        "outputId": "b3030e5c-d772-4a90-a9a4-2f5a28dd418d"
      },
      "source": [
        "heatmap = np.mean(conv_layer_output_value, axis = -1)\n",
        "print(conv_layer_output_value.shape)\n",
        "print(heatmap.shape)\n",
        "heatmap = np.maximum(heatmap, 0)\n",
        "heatmap /= np.max(heatmap)"
      ],
      "execution_count": 64,
      "outputs": [
        {
          "output_type": "stream",
          "text": [
            "(8, 8, 64)\n",
            "(8, 8)\n"
          ],
          "name": "stdout"
        }
      ]
    },
    {
      "cell_type": "code",
      "metadata": {
        "id": "1ATiwt-Va79o",
        "colab_type": "code",
        "colab": {}
      },
      "source": [
        "heatmap = cv2.resize(heatmap, (frog.shape[1], frog.shape[0]))\n",
        "heatmap = np.uint8(255 * heatmap)\n",
        "heatmap = cv2.applyColorMap(heatmap, cv2.COLORMAP_JET)\n",
        "superimposed_img = cv2.addWeighted(frog, 0.5, heatmap, 0.5, 0)\n"
      ],
      "execution_count": 0,
      "outputs": []
    },
    {
      "cell_type": "code",
      "metadata": {
        "id": "kfDVsNzJbDgu",
        "colab_type": "code",
        "colab": {
          "base_uri": "https://localhost:8080/",
          "height": 302
        },
        "outputId": "ee00f09c-2959-4c5a-f4d7-bd276a2d32ba"
      },
      "source": [
        "fig, ax = plt.subplots(1, 2, figsize=(10, 5), squeeze=False)\n",
        "\n",
        "ax[0][0].imshow(frog)\n",
        "ax[0][1].imshow(superimposed_img);"
      ],
      "execution_count": 66,
      "outputs": [
        {
          "output_type": "display_data",
          "data": {
            "image/png": "[encoded data removed]",
            "text/plain": [
              "<Figure size 720x360 with 2 Axes>"
            ]
          },
          "metadata": {
            "tags": []
          }
        }
      ]
    },
    {
      "cell_type": "code",
      "metadata": {
        "id": "vZks7OmVbJPd",
        "colab_type": "code",
        "colab": {}
      },
      "source": [
        "def display_all_gradcam_images(class_names: list, actual_images: dict):\n",
        "    _, ax = plt.subplots(4, 5, figsize=(20, 14))\n",
        "    row, col = 0, 0 \n",
        "    \n",
        "    for name, url in actual_images.items():\n",
        "        \n",
        "        if col == 5:\n",
        "            row += 2\n",
        "            col = 0\n",
        "\n",
        "        img = io.imread(url)\n",
        "        img = cv2.resize(img, dsize=(32, 32), interpolation=cv2.INTER_CUBIC)\n",
        "        x = image.img_to_array(img)\n",
        "        x = np.expand_dims(x, axis=0)\n",
        "\n",
        "        # preprocess image\n",
        "        x /= 255\n",
        "        x -= x_train_mean\n",
        "\n",
        "        preds = model.predict(x)\n",
        "        class_idx = np.argmax(preds[0])\n",
        "        predicted_class_name = class_names[class_idx]\n",
        "\n",
        "        class_output = model.output[:, class_idx]\n",
        "        last_conv_layer = model.get_layer(\"add_18\")\n",
        "\n",
        "        grads = K.gradients(class_output, last_conv_layer.output)[0]\n",
        "        pooled_grads = K.mean(grads, axis=(0, 1, 2))\n",
        "        iterate = K.function([model.input], [pooled_grads, last_conv_layer.output[0]]) \n",
        "\n",
        "        pooled_grads_value, conv_layer_output_value = iterate([x])\n",
        "\n",
        "        for i in range(64):\n",
        "            conv_layer_output_value[:, :, i] *= pooled_grads_value[i] \n",
        "\n",
        "        heatmap = np.mean(conv_layer_output_value, axis = -1)\n",
        "        heatmap = np.maximum(heatmap, 0)\n",
        "        heatmap /= np.max(heatmap)\n",
        "\n",
        "        heatmap = cv2.resize(heatmap, (img.shape[1], img.shape[0]))\n",
        "        heatmap = np.uint8(255 * heatmap)\n",
        "        heatmap = cv2.applyColorMap(heatmap, cv2.COLORMAP_JET)\n",
        "        superimposed_img = cv2.addWeighted(img, 0.5, heatmap, 0.5, 0)\n",
        "\n",
        "        ax[row][col].imshow(img);\n",
        "        ax[row][col].set_title(f'Actual: {name}')\n",
        "\n",
        "        ax[row+1][col].imshow(superimposed_img);\n",
        "        ax[row+1][col].set_title(f'Predicted: {predicted_class_name}')\n",
        "\n",
        "        col += 1"
      ],
      "execution_count": 0,
      "outputs": []
    },
    {
      "cell_type": "code",
      "metadata": {
        "id": "pck9r_FfwzdM",
        "colab_type": "code",
        "colab": {
          "base_uri": "https://localhost:8080/",
          "height": 825
        },
        "outputId": "02dda180-e4b7-4ad6-83ee-5df83c2931c8"
      },
      "source": [
        "display_all_gradcam_images(class_names, actual_images)"
      ],
      "execution_count": 48,
      "outputs": [
        {
          "output_type": "display_data",
          "data": {
            "image/png": "[encoded data removed]",
            "text/plain": [
              "<Figure size 1440x1008 with 20 Axes>"
            ]
          },
          "metadata": {
            "tags": []
          }
        }
      ]
    },
    {
      "cell_type": "code",
      "metadata": {
        "id": "SKl6RNdDw8OT",
        "colab_type": "code",
        "colab": {}
      },
      "source": [
        ""
      ],
      "execution_count": 0,
      "outputs": []
    }
  ]
}